{
  "metadata": {
    "accelerator": "GPU",
    "colab": {
      "provenance": [],
      "gpuType": "T4"
    },
    "kernelspec": {
      "name": "python3",
      "display_name": "Python 3",
      "language": "python"
    },
    "language_info": {
      "name": "python",
      "version": "3.10.13",
      "mimetype": "text/x-python",
      "codemirror_mode": {
        "name": "ipython",
        "version": 3
      },
      "pygments_lexer": "ipython3",
      "nbconvert_exporter": "python",
      "file_extension": ".py"
    },
    "kaggle": {
      "accelerator": "gpu",
      "dataSources": [
        {
          "sourceId": 7614671,
          "sourceType": "datasetVersion",
          "datasetId": 4434448
        }
      ],
      "dockerImageVersionId": 30648,
      "isInternetEnabled": true,
      "language": "python",
      "sourceType": "notebook",
      "isGpuEnabled": true
    }
  },
  "nbformat_minor": 0,
  "nbformat": 4,
  "cells": [
    {
      "cell_type": "code",
      "source": [
        "import numpy as np\n",
        "import pandas as pd\n",
        "import os\n",
        "import cv2\n",
        "import tensorflow as tf\n",
        "from tensorflow import keras\n",
        "from keras.models import Model\n",
        "from keras.layers import Input, Conv2D, MaxPool2D, UpSampling2D, concatenate, Flatten, Dense, AveragePooling2D\n",
        "from keras.preprocessing.image import ImageDataGenerator\n",
        "import keras.backend as K\n",
        "from sklearn.model_selection import train_test_split\n",
        "import matplotlib.pyplot as plt\n",
        "from keras import activations\n",
        "from keras.utils import to_categorical\n",
        "from sklearn.metrics import accuracy_score, confusion_matrix, ConfusionMatrixDisplay\n",
        "from keras.layers import Conv2D, Input, Flatten, Dense, BatchNormalization, LeakyReLU, \\\n",
        "    MaxPooling2D, Dropout, Concatenate, Activation\n",
        "import random\n",
        "import numpy as np\n",
        "from keras.datasets import cifar10\n",
        "from keras.applications.resnet50 import ResNet50\n",
        "from keras.applications.vgg16 import VGG16\n",
        "from google.colab import drive\n",
        "from sklearn.metrics import classification_report"
      ],
      "metadata": {
        "id": "QyLTcHnwDVfb",
        "execution": {
          "iopub.status.busy": "2024-04-17T15:05:16.843375Z",
          "iopub.execute_input": "2024-04-17T15:05:16.844444Z",
          "iopub.status.idle": "2024-04-17T15:05:16.854185Z",
          "shell.execute_reply.started": "2024-04-17T15:05:16.844407Z",
          "shell.execute_reply": "2024-04-17T15:05:16.853057Z"
        },
        "trusted": true
      },
      "execution_count": 11,
      "outputs": []
    },
    {
      "cell_type": "code",
      "source": [
        "SIZE = (128, 128)\n",
        "\n",
        "drive.mount('/content/drive')\n",
        "\n",
        "folder_aircrafts_path = '/content/drive/MyDrive/olehratinskiy_diploma_dataset/'\n",
        "\n",
        "types = ['attack_helicopters', 'fighter_aircrafts', 'il-76', 'tu-22', 'tu-95', 'tu-160', 'noaircrafts']\n",
        "\n",
        "img_list = []\n",
        "labels = []\n",
        "\n",
        "for idx, aircraft_type in enumerate(types):\n",
        "    for filename in sorted(os.listdir(folder_aircrafts_path + aircraft_type + '/')):\n",
        "        img_path = os.path.join(folder_aircrafts_path + aircraft_type + '/', filename)\n",
        "        img = cv2.imread(img_path)\n",
        "        img_resized = cv2.resize(img, SIZE)\n",
        "        img_list.append(img_resized)\n",
        "        labels.append(idx)\n",
        "\n",
        "X = np.array(img_list)\n",
        "labels = np.array(labels)"
      ],
      "metadata": {
        "id": "2CoI8Qr2Ve4a",
        "execution": {
          "iopub.status.busy": "2024-03-09T12:07:00.847561Z",
          "iopub.execute_input": "2024-03-09T12:07:00.848125Z",
          "iopub.status.idle": "2024-03-09T12:07:10.912309Z",
          "shell.execute_reply.started": "2024-03-09T12:07:00.848099Z",
          "shell.execute_reply": "2024-03-09T12:07:10.911450Z"
        },
        "trusted": true,
        "colab": {
          "base_uri": "https://localhost:8080/"
        },
        "outputId": "8f00a727-0bb0-431c-8572-7c94027614b4"
      },
      "execution_count": 2,
      "outputs": [
        {
          "output_type": "stream",
          "name": "stdout",
          "text": [
            "Mounted at /content/drive\n"
          ]
        }
      ]
    },
    {
      "cell_type": "code",
      "source": [
        "X_train, X_temp, y_train, y_temp = train_test_split(X, labels, test_size=0.2, random_state=42)\n",
        "X_val, X_test, y_val, y_test = train_test_split(X_temp, y_temp, test_size=0.5, random_state=42)"
      ],
      "metadata": {
        "execution": {
          "iopub.status.busy": "2024-03-09T12:07:10.913445Z",
          "iopub.execute_input": "2024-03-09T12:07:10.913736Z",
          "iopub.status.idle": "2024-03-09T12:07:10.942896Z",
          "shell.execute_reply.started": "2024-03-09T12:07:10.913711Z",
          "shell.execute_reply": "2024-03-09T12:07:10.941994Z"
        },
        "trusted": true,
        "id": "505n0zQrY8mb"
      },
      "execution_count": 3,
      "outputs": []
    },
    {
      "cell_type": "code",
      "source": [],
      "metadata": {
        "id": "iu-0xoFBzXIW"
      },
      "execution_count": null,
      "outputs": []
    },
    {
      "cell_type": "code",
      "source": [
        "print(len(X_train), len(X_test), len(X_val))\n",
        "print(len(y_train), len(y_test), len(y_val))"
      ],
      "metadata": {
        "execution": {
          "iopub.status.busy": "2024-03-09T12:08:33.836777Z",
          "iopub.execute_input": "2024-03-09T12:08:33.837044Z",
          "iopub.status.idle": "2024-03-09T12:08:33.842346Z",
          "shell.execute_reply.started": "2024-03-09T12:08:33.837022Z",
          "shell.execute_reply": "2024-03-09T12:08:33.841490Z"
        },
        "trusted": true,
        "colab": {
          "base_uri": "https://localhost:8080/"
        },
        "id": "dWjZeGQpY8me",
        "outputId": "02e12a7c-c46e-49e7-883a-98f4cf951b2e"
      },
      "execution_count": 4,
      "outputs": [
        {
          "output_type": "stream",
          "name": "stdout",
          "text": [
            "696 88 87\n",
            "696 88 87\n"
          ]
        }
      ]
    },
    {
      "cell_type": "code",
      "source": [
        "X_train = X_train / 255.0\n",
        "X_val = X_val / 255.0\n",
        "X_test = X_test / 255.0\n",
        "\n",
        "y_train_one_hot = to_categorical(y_train, len(types))\n",
        "y_val_one_hot = to_categorical(y_val, len(types))\n",
        "y_test_one_hot = to_categorical(y_test, len(types))"
      ],
      "metadata": {
        "execution": {
          "iopub.status.busy": "2024-03-09T12:08:33.843335Z",
          "iopub.execute_input": "2024-03-09T12:08:33.843657Z",
          "iopub.status.idle": "2024-03-09T12:08:36.938170Z",
          "shell.execute_reply.started": "2024-03-09T12:08:33.843634Z",
          "shell.execute_reply": "2024-03-09T12:08:36.937376Z"
        },
        "trusted": true,
        "id": "Qf5lANltY8mg"
      },
      "execution_count": 5,
      "outputs": []
    },
    {
      "cell_type": "code",
      "source": [
        "def conv_block(x, filters, kernel_size, padding):\n",
        "    x = Conv2D(filters, kernel_size=kernel_size, padding=padding)(x)\n",
        "    x = BatchNormalization()(x)\n",
        "    x = Activation('relu')(x)\n",
        "    return x\n",
        "\n",
        "def choose_drop_path_type(gl_dp_p, lc_dp_p):\n",
        "    gl_dp = random.choices([True, False], [gl_dp_p, lc_dp_p])[0]\n",
        "    lc_dp = not gl_dp\n",
        "    return gl_dp, lc_dp\n",
        "\n",
        "def get_gl_dp_index(columns_count):\n",
        "    return random.randint(0, columns_count - 1)\n",
        "\n",
        "def get_lc_dp_indexes(joining_paths_count, prob=0.5):\n",
        "    drop_paths_idxs = []\n",
        "    for i in range(joining_paths_count):\n",
        "        if random.random() < prob:\n",
        "            drop_paths_idxs.append(i)\n",
        "    if len(drop_paths_idxs) == joining_paths_count:\n",
        "        drop_paths_idxs.pop(random.randint(0, joining_paths_count - 1))\n",
        "    return drop_paths_idxs\n",
        "\n",
        "def join_paths(inputs):\n",
        "#     sum_input = tensorflow.keras.backend.sum(inputs, axis=0)\n",
        "    average = tf.reduce_mean(inputs, axis=0)\n",
        "    print(average)\n",
        "    return average\n",
        "\n",
        "def fractal_block(inputs, columns_count, filters, kernel_size, padding, gl_dp_p, lc_dp_p):\n",
        "    gl_dp, lc_dp = choose_drop_path_type(gl_dp_p, lc_dp_p)\n",
        "    print(f\"gl_dp={gl_dp}, lc_dp={lc_dp}\")\n",
        "    if gl_dp:\n",
        "        selected_path = get_gl_dp_index(columns_count)\n",
        "\n",
        "    column_path = [[inputs] for _ in range(columns_count)]\n",
        "\n",
        "    for i in range(1, pow(2, columns_count - 1) + 1):\n",
        "        count = 0\n",
        "        for j in range(columns_count):\n",
        "            if i % pow(2, j) == 0:\n",
        "                column_path[j].append(conv_block(column_path[j][-1], filters, kernel_size, padding))\n",
        "                count += 1\n",
        "\n",
        "        if count > 1:\n",
        "            last_columns_vals = [column_path[j][-1] for j in range(count)]\n",
        "            if lc_dp:\n",
        "                drop_paths_idxs = get_lc_dp_indexes(count)\n",
        "                last_columns_vals = [last_columns_vals[j] for j in range(len(last_columns_vals))\n",
        "                                     if j not in drop_paths_idxs]\n",
        "            elif gl_dp and i == pow(2, columns_count - 1):\n",
        "                last_columns_vals = [column_path[selected_path][-1]]\n",
        "\n",
        "            joined_val = join_paths(last_columns_vals)\n",
        "            for j in range(count):\n",
        "                column_path[j].append(joined_val)\n",
        "\n",
        "    last_val = column_path[-1][-1]\n",
        "    return last_val\n",
        "\n",
        "def fractal_network(input_shape, blocks_count, columns_count, filters, kernel_size, padding):\n",
        "    inputs = Input(shape=input_shape)\n",
        "    x = inputs\n",
        "    for _ in range(blocks_count):\n",
        "        x = fractal_block(x, columns_count, filters, kernel_size, padding, gl_dp_p=0.5, lc_dp_p=0.5)\n",
        "        x = MaxPool2D(pool_size=(2, 2), strides=(2, 2))(x)\n",
        "\n",
        "    x = Flatten()(x)\n",
        "    output_layer = Dense(len(types), activation='softmax')(x)\n",
        "\n",
        "    model = Model(inputs=inputs, outputs=output_layer)\n",
        "    return model"
      ],
      "metadata": {
        "execution": {
          "iopub.status.busy": "2024-03-09T12:08:36.939380Z",
          "iopub.execute_input": "2024-03-09T12:08:36.940094Z",
          "iopub.status.idle": "2024-03-09T12:08:36.956639Z",
          "shell.execute_reply.started": "2024-03-09T12:08:36.940063Z",
          "shell.execute_reply": "2024-03-09T12:08:36.955663Z"
        },
        "trusted": true,
        "id": "ziGGu35tY8mg"
      },
      "execution_count": 6,
      "outputs": []
    },
    {
      "cell_type": "code",
      "source": [
        "shape = (128, 128, 3)"
      ],
      "metadata": {
        "execution": {
          "iopub.status.busy": "2024-03-09T12:08:36.959472Z",
          "iopub.execute_input": "2024-03-09T12:08:36.959753Z",
          "iopub.status.idle": "2024-03-09T12:08:36.970289Z",
          "shell.execute_reply.started": "2024-03-09T12:08:36.959731Z",
          "shell.execute_reply": "2024-03-09T12:08:36.969525Z"
        },
        "trusted": true,
        "id": "X1CMRJ5xY8mh"
      },
      "execution_count": 7,
      "outputs": []
    },
    {
      "cell_type": "code",
      "source": [
        "plt.figure(figsize=(14, 6))\n",
        "\n",
        "fractal_model = fractal_network(shape, blocks_count=4, columns_count=4, filters=32, kernel_size=(3, 3), padding='same')\n",
        "fractal_model.compile(keras.optimizers.Adam(learning_rate=0.00001), loss='categorical_crossentropy', metrics=['accuracy'])\n",
        "history_fractalnet = fractal_model.fit(X_train, y_train_one_hot, epochs=200, batch_size=64, validation_data=(X_val, y_val_one_hot))"
      ],
      "metadata": {
        "execution": {
          "iopub.status.busy": "2024-03-09T12:47:22.243165Z",
          "iopub.execute_input": "2024-03-09T12:47:22.243831Z",
          "iopub.status.idle": "2024-03-09T14:25:59.858149Z",
          "shell.execute_reply.started": "2024-03-09T12:47:22.243798Z",
          "shell.execute_reply": "2024-03-09T14:25:59.857202Z"
        },
        "trusted": true,
        "colab": {
          "base_uri": "https://localhost:8080/",
          "height": 1000
        },
        "id": "dcLt-jGsY8mi",
        "outputId": "264d41e4-82c4-455e-c402-067b4605939f"
      },
      "execution_count": 8,
      "outputs": [
        {
          "output_type": "stream",
          "name": "stdout",
          "text": [
            "gl_dp=False, lc_dp=True\n",
            "KerasTensor(type_spec=TensorSpec(shape=(None, 128, 128, 32), dtype=tf.float32, name=None), name='tf.math.reduce_mean/Mean:0', description=\"created by layer 'tf.math.reduce_mean'\")\n",
            "KerasTensor(type_spec=TensorSpec(shape=(None, 128, 128, 32), dtype=tf.float32, name=None), name='tf.math.reduce_mean_1/Mean:0', description=\"created by layer 'tf.math.reduce_mean_1'\")\n",
            "KerasTensor(type_spec=TensorSpec(shape=(None, 128, 128, 32), dtype=tf.float32, name=None), name='tf.math.reduce_mean_2/Mean:0', description=\"created by layer 'tf.math.reduce_mean_2'\")\n",
            "KerasTensor(type_spec=TensorSpec(shape=(None, 128, 128, 32), dtype=tf.float32, name=None), name='tf.math.reduce_mean_3/Mean:0', description=\"created by layer 'tf.math.reduce_mean_3'\")\n",
            "gl_dp=True, lc_dp=False\n",
            "KerasTensor(type_spec=TensorSpec(shape=(None, 64, 64, 32), dtype=tf.float32, name=None), name='tf.math.reduce_mean_4/Mean:0', description=\"created by layer 'tf.math.reduce_mean_4'\")\n",
            "KerasTensor(type_spec=TensorSpec(shape=(None, 64, 64, 32), dtype=tf.float32, name=None), name='tf.math.reduce_mean_5/Mean:0', description=\"created by layer 'tf.math.reduce_mean_5'\")\n",
            "KerasTensor(type_spec=TensorSpec(shape=(None, 64, 64, 32), dtype=tf.float32, name=None), name='tf.math.reduce_mean_6/Mean:0', description=\"created by layer 'tf.math.reduce_mean_6'\")\n",
            "KerasTensor(type_spec=TensorSpec(shape=(None, 64, 64, 32), dtype=tf.float32, name=None), name='tf.math.reduce_mean_7/Mean:0', description=\"created by layer 'tf.math.reduce_mean_7'\")\n",
            "gl_dp=True, lc_dp=False\n",
            "KerasTensor(type_spec=TensorSpec(shape=(None, 32, 32, 32), dtype=tf.float32, name=None), name='tf.math.reduce_mean_8/Mean:0', description=\"created by layer 'tf.math.reduce_mean_8'\")\n",
            "KerasTensor(type_spec=TensorSpec(shape=(None, 32, 32, 32), dtype=tf.float32, name=None), name='tf.math.reduce_mean_9/Mean:0', description=\"created by layer 'tf.math.reduce_mean_9'\")\n",
            "KerasTensor(type_spec=TensorSpec(shape=(None, 32, 32, 32), dtype=tf.float32, name=None), name='tf.math.reduce_mean_10/Mean:0', description=\"created by layer 'tf.math.reduce_mean_10'\")\n",
            "KerasTensor(type_spec=TensorSpec(shape=(None, 32, 32, 32), dtype=tf.float32, name=None), name='tf.math.reduce_mean_11/Mean:0', description=\"created by layer 'tf.math.reduce_mean_11'\")\n",
            "gl_dp=True, lc_dp=False\n",
            "KerasTensor(type_spec=TensorSpec(shape=(None, 16, 16, 32), dtype=tf.float32, name=None), name='tf.math.reduce_mean_12/Mean:0', description=\"created by layer 'tf.math.reduce_mean_12'\")\n",
            "KerasTensor(type_spec=TensorSpec(shape=(None, 16, 16, 32), dtype=tf.float32, name=None), name='tf.math.reduce_mean_13/Mean:0', description=\"created by layer 'tf.math.reduce_mean_13'\")\n",
            "KerasTensor(type_spec=TensorSpec(shape=(None, 16, 16, 32), dtype=tf.float32, name=None), name='tf.math.reduce_mean_14/Mean:0', description=\"created by layer 'tf.math.reduce_mean_14'\")\n",
            "KerasTensor(type_spec=TensorSpec(shape=(None, 16, 16, 32), dtype=tf.float32, name=None), name='tf.math.reduce_mean_15/Mean:0', description=\"created by layer 'tf.math.reduce_mean_15'\")\n",
            "Epoch 1/200\n",
            "11/11 [==============================] - 30s 668ms/step - loss: 3.1865 - accuracy: 0.1264 - val_loss: 1.9461 - val_accuracy: 0.1379\n",
            "Epoch 2/200\n",
            "11/11 [==============================] - 3s 282ms/step - loss: 2.9618 - accuracy: 0.1437 - val_loss: 1.9468 - val_accuracy: 0.1379\n",
            "Epoch 3/200\n",
            "11/11 [==============================] - 3s 279ms/step - loss: 2.7918 - accuracy: 0.1667 - val_loss: 1.9480 - val_accuracy: 0.1379\n",
            "Epoch 4/200\n",
            "11/11 [==============================] - 3s 279ms/step - loss: 2.6451 - accuracy: 0.1552 - val_loss: 1.9493 - val_accuracy: 0.1379\n",
            "Epoch 5/200\n",
            "11/11 [==============================] - 3s 281ms/step - loss: 2.5398 - accuracy: 0.1466 - val_loss: 1.9505 - val_accuracy: 0.1379\n",
            "Epoch 6/200\n",
            "11/11 [==============================] - 3s 284ms/step - loss: 2.4103 - accuracy: 0.1638 - val_loss: 1.9515 - val_accuracy: 0.1379\n",
            "Epoch 7/200\n",
            "11/11 [==============================] - 3s 278ms/step - loss: 2.3222 - accuracy: 0.1810 - val_loss: 1.9522 - val_accuracy: 0.1379\n",
            "Epoch 8/200\n",
            "11/11 [==============================] - 3s 280ms/step - loss: 2.2737 - accuracy: 0.1753 - val_loss: 1.9526 - val_accuracy: 0.1379\n",
            "Epoch 9/200\n",
            "11/11 [==============================] - 3s 278ms/step - loss: 2.1899 - accuracy: 0.1968 - val_loss: 1.9528 - val_accuracy: 0.1379\n",
            "Epoch 10/200\n",
            "11/11 [==============================] - 3s 288ms/step - loss: 2.1157 - accuracy: 0.2069 - val_loss: 1.9534 - val_accuracy: 0.1379\n",
            "Epoch 11/200\n",
            "11/11 [==============================] - 3s 278ms/step - loss: 2.0872 - accuracy: 0.2155 - val_loss: 1.9544 - val_accuracy: 0.1379\n",
            "Epoch 12/200\n",
            "11/11 [==============================] - 3s 283ms/step - loss: 2.0448 - accuracy: 0.2227 - val_loss: 1.9550 - val_accuracy: 0.1379\n",
            "Epoch 13/200\n",
            "11/11 [==============================] - 3s 289ms/step - loss: 1.9923 - accuracy: 0.2356 - val_loss: 1.9554 - val_accuracy: 0.1379\n",
            "Epoch 14/200\n",
            "11/11 [==============================] - 3s 288ms/step - loss: 1.9536 - accuracy: 0.2342 - val_loss: 1.9555 - val_accuracy: 0.1379\n",
            "Epoch 15/200\n",
            "11/11 [==============================] - 3s 282ms/step - loss: 1.9008 - accuracy: 0.2500 - val_loss: 1.9565 - val_accuracy: 0.1379\n",
            "Epoch 16/200\n",
            "11/11 [==============================] - 3s 286ms/step - loss: 1.8711 - accuracy: 0.2543 - val_loss: 1.9572 - val_accuracy: 0.1379\n",
            "Epoch 17/200\n",
            "11/11 [==============================] - 3s 282ms/step - loss: 1.7960 - accuracy: 0.3147 - val_loss: 1.9579 - val_accuracy: 0.1379\n",
            "Epoch 18/200\n",
            "11/11 [==============================] - 3s 292ms/step - loss: 1.7706 - accuracy: 0.3046 - val_loss: 1.9595 - val_accuracy: 0.1379\n",
            "Epoch 19/200\n",
            "11/11 [==============================] - 3s 287ms/step - loss: 1.7410 - accuracy: 0.3362 - val_loss: 1.9608 - val_accuracy: 0.1379\n",
            "Epoch 20/200\n",
            "11/11 [==============================] - 3s 290ms/step - loss: 1.7496 - accuracy: 0.3434 - val_loss: 1.9613 - val_accuracy: 0.1379\n",
            "Epoch 21/200\n",
            "11/11 [==============================] - 3s 288ms/step - loss: 1.7020 - accuracy: 0.3520 - val_loss: 1.9615 - val_accuracy: 0.1379\n",
            "Epoch 22/200\n",
            "11/11 [==============================] - 3s 293ms/step - loss: 1.6822 - accuracy: 0.3592 - val_loss: 1.9609 - val_accuracy: 0.1379\n",
            "Epoch 23/200\n",
            "11/11 [==============================] - 3s 289ms/step - loss: 1.6104 - accuracy: 0.3980 - val_loss: 1.9573 - val_accuracy: 0.1379\n",
            "Epoch 24/200\n",
            "11/11 [==============================] - 3s 290ms/step - loss: 1.6050 - accuracy: 0.4009 - val_loss: 1.9569 - val_accuracy: 0.1379\n",
            "Epoch 25/200\n",
            "11/11 [==============================] - 3s 291ms/step - loss: 1.5788 - accuracy: 0.4210 - val_loss: 1.9594 - val_accuracy: 0.1379\n",
            "Epoch 26/200\n",
            "11/11 [==============================] - 3s 292ms/step - loss: 1.5487 - accuracy: 0.4181 - val_loss: 1.9517 - val_accuracy: 0.1379\n",
            "Epoch 27/200\n",
            "11/11 [==============================] - 3s 296ms/step - loss: 1.5245 - accuracy: 0.4440 - val_loss: 1.9432 - val_accuracy: 0.1494\n",
            "Epoch 28/200\n",
            "11/11 [==============================] - 3s 294ms/step - loss: 1.4646 - accuracy: 0.4626 - val_loss: 1.9466 - val_accuracy: 0.1379\n",
            "Epoch 29/200\n",
            "11/11 [==============================] - 3s 294ms/step - loss: 1.4801 - accuracy: 0.4713 - val_loss: 1.9519 - val_accuracy: 0.1609\n",
            "Epoch 30/200\n",
            "11/11 [==============================] - 3s 298ms/step - loss: 1.4022 - accuracy: 0.5201 - val_loss: 1.9533 - val_accuracy: 0.1609\n",
            "Epoch 31/200\n",
            "11/11 [==============================] - 3s 299ms/step - loss: 1.4338 - accuracy: 0.4943 - val_loss: 1.9457 - val_accuracy: 0.1494\n",
            "Epoch 32/200\n",
            "11/11 [==============================] - 3s 293ms/step - loss: 1.4099 - accuracy: 0.4928 - val_loss: 1.9385 - val_accuracy: 0.1724\n",
            "Epoch 33/200\n",
            "11/11 [==============================] - 3s 294ms/step - loss: 1.3662 - accuracy: 0.5431 - val_loss: 1.9293 - val_accuracy: 0.1954\n",
            "Epoch 34/200\n",
            "11/11 [==============================] - 3s 297ms/step - loss: 1.3185 - accuracy: 0.5747 - val_loss: 1.9139 - val_accuracy: 0.2069\n",
            "Epoch 35/200\n",
            "11/11 [==============================] - 3s 296ms/step - loss: 1.2885 - accuracy: 0.5819 - val_loss: 1.9109 - val_accuracy: 0.2069\n",
            "Epoch 36/200\n",
            "11/11 [==============================] - 3s 294ms/step - loss: 1.2876 - accuracy: 0.5805 - val_loss: 1.9211 - val_accuracy: 0.2069\n",
            "Epoch 37/200\n",
            "11/11 [==============================] - 3s 293ms/step - loss: 1.2928 - accuracy: 0.6034 - val_loss: 1.9296 - val_accuracy: 0.2299\n",
            "Epoch 38/200\n",
            "11/11 [==============================] - 3s 297ms/step - loss: 1.3016 - accuracy: 0.5977 - val_loss: 1.9234 - val_accuracy: 0.2069\n",
            "Epoch 39/200\n",
            "11/11 [==============================] - 3s 300ms/step - loss: 1.2437 - accuracy: 0.6193 - val_loss: 1.9194 - val_accuracy: 0.2184\n",
            "Epoch 40/200\n",
            "11/11 [==============================] - 3s 295ms/step - loss: 1.1678 - accuracy: 0.6652 - val_loss: 1.9229 - val_accuracy: 0.2644\n",
            "Epoch 41/200\n",
            "11/11 [==============================] - 3s 290ms/step - loss: 1.2271 - accuracy: 0.6236 - val_loss: 1.9058 - val_accuracy: 0.2644\n",
            "Epoch 42/200\n",
            "11/11 [==============================] - 3s 298ms/step - loss: 1.2255 - accuracy: 0.6466 - val_loss: 1.9030 - val_accuracy: 0.2759\n",
            "Epoch 43/200\n",
            "11/11 [==============================] - 3s 292ms/step - loss: 1.1659 - accuracy: 0.6609 - val_loss: 1.9234 - val_accuracy: 0.2759\n",
            "Epoch 44/200\n",
            "11/11 [==============================] - 3s 293ms/step - loss: 1.1535 - accuracy: 0.6782 - val_loss: 1.9244 - val_accuracy: 0.2414\n",
            "Epoch 45/200\n",
            "11/11 [==============================] - 3s 294ms/step - loss: 1.1519 - accuracy: 0.6681 - val_loss: 1.9206 - val_accuracy: 0.2414\n",
            "Epoch 46/200\n",
            "11/11 [==============================] - 3s 292ms/step - loss: 1.1098 - accuracy: 0.7184 - val_loss: 1.9234 - val_accuracy: 0.2759\n",
            "Epoch 47/200\n",
            "11/11 [==============================] - 3s 297ms/step - loss: 1.1895 - accuracy: 0.6149 - val_loss: 1.9345 - val_accuracy: 0.2529\n",
            "Epoch 48/200\n",
            "11/11 [==============================] - 3s 293ms/step - loss: 1.1450 - accuracy: 0.6681 - val_loss: 1.9269 - val_accuracy: 0.2874\n",
            "Epoch 49/200\n",
            "11/11 [==============================] - 3s 293ms/step - loss: 1.0404 - accuracy: 0.7385 - val_loss: 1.9126 - val_accuracy: 0.3103\n",
            "Epoch 50/200\n",
            "11/11 [==============================] - 3s 293ms/step - loss: 1.0268 - accuracy: 0.7486 - val_loss: 1.9316 - val_accuracy: 0.2759\n",
            "Epoch 51/200\n",
            "11/11 [==============================] - 3s 295ms/step - loss: 0.9891 - accuracy: 0.7687 - val_loss: 1.9298 - val_accuracy: 0.2644\n",
            "Epoch 52/200\n",
            "11/11 [==============================] - 3s 291ms/step - loss: 0.9919 - accuracy: 0.7543 - val_loss: 1.9644 - val_accuracy: 0.2759\n",
            "Epoch 53/200\n",
            "11/11 [==============================] - 3s 294ms/step - loss: 0.9660 - accuracy: 0.7816 - val_loss: 1.9787 - val_accuracy: 0.2069\n",
            "Epoch 54/200\n",
            "11/11 [==============================] - 3s 298ms/step - loss: 1.0117 - accuracy: 0.7601 - val_loss: 1.9500 - val_accuracy: 0.2414\n",
            "Epoch 55/200\n",
            "11/11 [==============================] - 3s 297ms/step - loss: 0.9569 - accuracy: 0.7874 - val_loss: 1.9253 - val_accuracy: 0.2529\n",
            "Epoch 56/200\n",
            "11/11 [==============================] - 3s 294ms/step - loss: 0.9151 - accuracy: 0.8103 - val_loss: 1.9033 - val_accuracy: 0.2874\n",
            "Epoch 57/200\n",
            "11/11 [==============================] - 3s 296ms/step - loss: 0.9520 - accuracy: 0.7816 - val_loss: 1.8709 - val_accuracy: 0.2989\n",
            "Epoch 58/200\n",
            "11/11 [==============================] - 3s 298ms/step - loss: 0.9113 - accuracy: 0.8175 - val_loss: 1.8437 - val_accuracy: 0.2874\n",
            "Epoch 59/200\n",
            "11/11 [==============================] - 3s 294ms/step - loss: 0.8746 - accuracy: 0.8247 - val_loss: 1.8444 - val_accuracy: 0.2989\n",
            "Epoch 60/200\n",
            "11/11 [==============================] - 3s 296ms/step - loss: 0.8881 - accuracy: 0.8233 - val_loss: 1.8398 - val_accuracy: 0.2644\n",
            "Epoch 61/200\n",
            "11/11 [==============================] - 3s 295ms/step - loss: 0.8414 - accuracy: 0.8520 - val_loss: 1.8545 - val_accuracy: 0.2989\n",
            "Epoch 62/200\n",
            "11/11 [==============================] - 3s 295ms/step - loss: 0.8630 - accuracy: 0.8348 - val_loss: 1.8369 - val_accuracy: 0.3333\n",
            "Epoch 63/200\n",
            "11/11 [==============================] - 3s 295ms/step - loss: 0.8211 - accuracy: 0.8664 - val_loss: 1.8288 - val_accuracy: 0.2989\n",
            "Epoch 64/200\n",
            "11/11 [==============================] - 3s 295ms/step - loss: 0.8262 - accuracy: 0.8534 - val_loss: 1.8214 - val_accuracy: 0.3103\n",
            "Epoch 65/200\n",
            "11/11 [==============================] - 3s 293ms/step - loss: 0.8890 - accuracy: 0.8046 - val_loss: 1.8052 - val_accuracy: 0.3103\n",
            "Epoch 66/200\n",
            "11/11 [==============================] - 3s 296ms/step - loss: 0.7579 - accuracy: 0.8793 - val_loss: 1.7939 - val_accuracy: 0.2989\n",
            "Epoch 67/200\n",
            "11/11 [==============================] - 3s 298ms/step - loss: 0.7723 - accuracy: 0.8707 - val_loss: 1.7918 - val_accuracy: 0.2989\n",
            "Epoch 68/200\n",
            "11/11 [==============================] - 3s 299ms/step - loss: 0.7644 - accuracy: 0.8721 - val_loss: 1.7865 - val_accuracy: 0.3218\n",
            "Epoch 69/200\n",
            "11/11 [==============================] - 3s 293ms/step - loss: 0.8881 - accuracy: 0.8132 - val_loss: 1.7949 - val_accuracy: 0.2759\n",
            "Epoch 70/200\n",
            "11/11 [==============================] - 3s 295ms/step - loss: 0.8178 - accuracy: 0.8376 - val_loss: 1.7914 - val_accuracy: 0.2644\n",
            "Epoch 71/200\n",
            "11/11 [==============================] - 3s 298ms/step - loss: 0.7102 - accuracy: 0.9052 - val_loss: 1.7847 - val_accuracy: 0.2989\n",
            "Epoch 72/200\n",
            "11/11 [==============================] - 3s 295ms/step - loss: 0.7093 - accuracy: 0.8994 - val_loss: 1.7782 - val_accuracy: 0.3333\n",
            "Epoch 73/200\n",
            "11/11 [==============================] - 3s 295ms/step - loss: 0.7256 - accuracy: 0.8951 - val_loss: 1.7775 - val_accuracy: 0.2874\n",
            "Epoch 74/200\n",
            "11/11 [==============================] - 3s 297ms/step - loss: 0.7301 - accuracy: 0.8764 - val_loss: 1.7757 - val_accuracy: 0.2759\n",
            "Epoch 75/200\n",
            "11/11 [==============================] - 3s 297ms/step - loss: 0.7614 - accuracy: 0.8721 - val_loss: 1.7687 - val_accuracy: 0.2759\n",
            "Epoch 76/200\n",
            "11/11 [==============================] - 3s 292ms/step - loss: 0.7759 - accuracy: 0.8664 - val_loss: 1.7631 - val_accuracy: 0.2989\n",
            "Epoch 77/200\n",
            "11/11 [==============================] - 3s 291ms/step - loss: 0.6449 - accuracy: 0.9224 - val_loss: 1.7378 - val_accuracy: 0.2989\n",
            "Epoch 78/200\n",
            "11/11 [==============================] - 3s 297ms/step - loss: 0.6649 - accuracy: 0.9138 - val_loss: 1.7346 - val_accuracy: 0.2874\n",
            "Epoch 79/200\n",
            "11/11 [==============================] - 3s 294ms/step - loss: 0.6970 - accuracy: 0.9109 - val_loss: 1.7138 - val_accuracy: 0.3218\n",
            "Epoch 80/200\n",
            "11/11 [==============================] - 3s 292ms/step - loss: 0.7048 - accuracy: 0.8851 - val_loss: 1.7434 - val_accuracy: 0.2989\n",
            "Epoch 81/200\n",
            "11/11 [==============================] - 3s 292ms/step - loss: 0.6466 - accuracy: 0.9124 - val_loss: 1.7634 - val_accuracy: 0.2989\n",
            "Epoch 82/200\n",
            "11/11 [==============================] - 3s 292ms/step - loss: 0.6543 - accuracy: 0.9138 - val_loss: 1.7636 - val_accuracy: 0.2989\n",
            "Epoch 83/200\n",
            "11/11 [==============================] - 3s 300ms/step - loss: 0.6452 - accuracy: 0.9152 - val_loss: 1.7582 - val_accuracy: 0.3563\n",
            "Epoch 84/200\n",
            "11/11 [==============================] - 3s 291ms/step - loss: 0.5943 - accuracy: 0.9397 - val_loss: 1.7681 - val_accuracy: 0.3103\n",
            "Epoch 85/200\n",
            "11/11 [==============================] - 3s 291ms/step - loss: 0.6563 - accuracy: 0.9138 - val_loss: 1.7740 - val_accuracy: 0.3448\n",
            "Epoch 86/200\n",
            "11/11 [==============================] - 3s 292ms/step - loss: 0.6164 - accuracy: 0.9382 - val_loss: 1.7690 - val_accuracy: 0.3218\n",
            "Epoch 87/200\n",
            "11/11 [==============================] - 3s 299ms/step - loss: 0.5888 - accuracy: 0.9454 - val_loss: 1.7562 - val_accuracy: 0.2989\n",
            "Epoch 88/200\n",
            "11/11 [==============================] - 3s 292ms/step - loss: 0.6119 - accuracy: 0.9411 - val_loss: 1.7522 - val_accuracy: 0.3218\n",
            "Epoch 89/200\n",
            "11/11 [==============================] - 3s 292ms/step - loss: 0.5553 - accuracy: 0.9468 - val_loss: 1.7439 - val_accuracy: 0.3103\n",
            "Epoch 90/200\n",
            "11/11 [==============================] - 3s 295ms/step - loss: 0.6009 - accuracy: 0.9224 - val_loss: 1.7402 - val_accuracy: 0.3103\n",
            "Epoch 91/200\n",
            "11/11 [==============================] - 3s 299ms/step - loss: 0.5522 - accuracy: 0.9368 - val_loss: 1.7272 - val_accuracy: 0.3333\n",
            "Epoch 92/200\n",
            "11/11 [==============================] - 3s 295ms/step - loss: 0.6139 - accuracy: 0.9210 - val_loss: 1.7383 - val_accuracy: 0.3218\n",
            "Epoch 93/200\n",
            "11/11 [==============================] - 3s 294ms/step - loss: 0.5259 - accuracy: 0.9612 - val_loss: 1.7292 - val_accuracy: 0.3103\n",
            "Epoch 94/200\n",
            "11/11 [==============================] - 3s 294ms/step - loss: 0.6259 - accuracy: 0.9080 - val_loss: 1.7199 - val_accuracy: 0.3333\n",
            "Epoch 95/200\n",
            "11/11 [==============================] - 3s 299ms/step - loss: 0.5307 - accuracy: 0.9440 - val_loss: 1.7272 - val_accuracy: 0.3333\n",
            "Epoch 96/200\n",
            "11/11 [==============================] - 3s 291ms/step - loss: 0.5113 - accuracy: 0.9569 - val_loss: 1.7267 - val_accuracy: 0.3333\n",
            "Epoch 97/200\n",
            "11/11 [==============================] - 3s 293ms/step - loss: 0.4930 - accuracy: 0.9670 - val_loss: 1.7299 - val_accuracy: 0.3333\n",
            "Epoch 98/200\n",
            "11/11 [==============================] - 3s 293ms/step - loss: 0.5304 - accuracy: 0.9468 - val_loss: 1.7153 - val_accuracy: 0.3448\n",
            "Epoch 99/200\n",
            "11/11 [==============================] - 3s 297ms/step - loss: 0.5412 - accuracy: 0.9397 - val_loss: 1.7168 - val_accuracy: 0.3678\n",
            "Epoch 100/200\n",
            "11/11 [==============================] - 3s 295ms/step - loss: 0.5176 - accuracy: 0.9497 - val_loss: 1.7288 - val_accuracy: 0.3563\n",
            "Epoch 101/200\n",
            "11/11 [==============================] - 3s 293ms/step - loss: 0.5015 - accuracy: 0.9583 - val_loss: 1.7250 - val_accuracy: 0.3793\n",
            "Epoch 102/200\n",
            "11/11 [==============================] - 3s 296ms/step - loss: 0.5070 - accuracy: 0.9569 - val_loss: 1.7136 - val_accuracy: 0.3678\n",
            "Epoch 103/200\n",
            "11/11 [==============================] - 3s 296ms/step - loss: 0.4746 - accuracy: 0.9612 - val_loss: 1.7014 - val_accuracy: 0.3908\n",
            "Epoch 104/200\n",
            "11/11 [==============================] - 3s 292ms/step - loss: 0.4667 - accuracy: 0.9684 - val_loss: 1.7079 - val_accuracy: 0.3563\n",
            "Epoch 105/200\n",
            "11/11 [==============================] - 3s 296ms/step - loss: 0.4692 - accuracy: 0.9626 - val_loss: 1.7086 - val_accuracy: 0.3218\n",
            "Epoch 106/200\n",
            "11/11 [==============================] - 3s 297ms/step - loss: 0.4294 - accuracy: 0.9741 - val_loss: 1.7066 - val_accuracy: 0.3103\n",
            "Epoch 107/200\n",
            "11/11 [==============================] - 3s 299ms/step - loss: 0.5380 - accuracy: 0.9267 - val_loss: 1.6969 - val_accuracy: 0.3103\n",
            "Epoch 108/200\n",
            "11/11 [==============================] - 3s 292ms/step - loss: 0.5081 - accuracy: 0.9397 - val_loss: 1.6969 - val_accuracy: 0.3103\n",
            "Epoch 109/200\n",
            "11/11 [==============================] - 3s 292ms/step - loss: 0.4100 - accuracy: 0.9799 - val_loss: 1.7042 - val_accuracy: 0.3103\n",
            "Epoch 110/200\n",
            "11/11 [==============================] - 3s 292ms/step - loss: 0.4386 - accuracy: 0.9713 - val_loss: 1.7004 - val_accuracy: 0.3103\n",
            "Epoch 111/200\n",
            "11/11 [==============================] - 3s 300ms/step - loss: 0.4376 - accuracy: 0.9684 - val_loss: 1.6961 - val_accuracy: 0.3448\n",
            "Epoch 112/200\n",
            "11/11 [==============================] - 3s 293ms/step - loss: 0.4753 - accuracy: 0.9497 - val_loss: 1.6937 - val_accuracy: 0.3103\n",
            "Epoch 113/200\n",
            "11/11 [==============================] - 3s 294ms/step - loss: 0.5138 - accuracy: 0.9382 - val_loss: 1.6861 - val_accuracy: 0.3448\n",
            "Epoch 114/200\n",
            "11/11 [==============================] - 3s 294ms/step - loss: 0.4392 - accuracy: 0.9583 - val_loss: 1.6859 - val_accuracy: 0.3333\n",
            "Epoch 115/200\n",
            "11/11 [==============================] - 3s 296ms/step - loss: 0.4296 - accuracy: 0.9813 - val_loss: 1.6837 - val_accuracy: 0.3333\n",
            "Epoch 116/200\n",
            "11/11 [==============================] - 3s 295ms/step - loss: 0.4470 - accuracy: 0.9598 - val_loss: 1.6707 - val_accuracy: 0.3448\n",
            "Epoch 117/200\n",
            "11/11 [==============================] - 3s 295ms/step - loss: 0.3876 - accuracy: 0.9770 - val_loss: 1.6586 - val_accuracy: 0.3333\n",
            "Epoch 118/200\n",
            "11/11 [==============================] - 3s 294ms/step - loss: 0.4899 - accuracy: 0.9483 - val_loss: 1.6615 - val_accuracy: 0.3448\n",
            "Epoch 119/200\n",
            "11/11 [==============================] - 3s 298ms/step - loss: 0.3835 - accuracy: 0.9856 - val_loss: 1.6736 - val_accuracy: 0.3678\n",
            "Epoch 120/200\n",
            "11/11 [==============================] - 3s 297ms/step - loss: 0.4491 - accuracy: 0.9641 - val_loss: 1.6749 - val_accuracy: 0.3793\n",
            "Epoch 121/200\n",
            "11/11 [==============================] - 3s 291ms/step - loss: 0.4143 - accuracy: 0.9655 - val_loss: 1.6767 - val_accuracy: 0.3678\n",
            "Epoch 122/200\n",
            "11/11 [==============================] - 3s 295ms/step - loss: 0.3835 - accuracy: 0.9828 - val_loss: 1.6729 - val_accuracy: 0.3563\n",
            "Epoch 123/200\n",
            "11/11 [==============================] - 3s 303ms/step - loss: 0.3974 - accuracy: 0.9828 - val_loss: 1.6664 - val_accuracy: 0.3678\n",
            "Epoch 124/200\n",
            "11/11 [==============================] - 3s 298ms/step - loss: 0.4657 - accuracy: 0.9511 - val_loss: 1.6674 - val_accuracy: 0.3448\n",
            "Epoch 125/200\n",
            "11/11 [==============================] - 3s 292ms/step - loss: 0.3790 - accuracy: 0.9813 - val_loss: 1.6646 - val_accuracy: 0.3448\n",
            "Epoch 126/200\n",
            "11/11 [==============================] - 3s 293ms/step - loss: 0.3530 - accuracy: 0.9842 - val_loss: 1.6578 - val_accuracy: 0.3333\n",
            "Epoch 127/200\n",
            "11/11 [==============================] - 3s 298ms/step - loss: 0.3883 - accuracy: 0.9713 - val_loss: 1.6593 - val_accuracy: 0.3448\n",
            "Epoch 128/200\n",
            "11/11 [==============================] - 3s 296ms/step - loss: 0.3753 - accuracy: 0.9813 - val_loss: 1.6606 - val_accuracy: 0.3678\n",
            "Epoch 129/200\n",
            "11/11 [==============================] - 3s 298ms/step - loss: 0.4185 - accuracy: 0.9497 - val_loss: 1.6767 - val_accuracy: 0.3563\n",
            "Epoch 130/200\n",
            "11/11 [==============================] - 3s 295ms/step - loss: 0.3390 - accuracy: 0.9828 - val_loss: 1.6768 - val_accuracy: 0.3563\n",
            "Epoch 131/200\n",
            "11/11 [==============================] - 3s 299ms/step - loss: 0.3380 - accuracy: 0.9842 - val_loss: 1.6791 - val_accuracy: 0.3563\n",
            "Epoch 132/200\n",
            "11/11 [==============================] - 3s 292ms/step - loss: 0.3040 - accuracy: 0.9885 - val_loss: 1.6786 - val_accuracy: 0.3563\n",
            "Epoch 133/200\n",
            "11/11 [==============================] - 3s 295ms/step - loss: 0.4640 - accuracy: 0.9511 - val_loss: 1.6706 - val_accuracy: 0.3678\n",
            "Epoch 134/200\n",
            "11/11 [==============================] - 3s 297ms/step - loss: 0.3213 - accuracy: 0.9856 - val_loss: 1.6575 - val_accuracy: 0.3793\n",
            "Epoch 135/200\n",
            "11/11 [==============================] - 3s 299ms/step - loss: 0.3121 - accuracy: 0.9856 - val_loss: 1.6595 - val_accuracy: 0.3908\n",
            "Epoch 136/200\n",
            "11/11 [==============================] - 3s 293ms/step - loss: 0.3775 - accuracy: 0.9727 - val_loss: 1.6684 - val_accuracy: 0.3678\n",
            "Epoch 137/200\n",
            "11/11 [==============================] - 3s 292ms/step - loss: 0.2734 - accuracy: 0.9899 - val_loss: 1.6681 - val_accuracy: 0.3563\n",
            "Epoch 138/200\n",
            "11/11 [==============================] - 3s 296ms/step - loss: 0.3574 - accuracy: 0.9756 - val_loss: 1.6633 - val_accuracy: 0.3448\n",
            "Epoch 139/200\n",
            "11/11 [==============================] - 3s 298ms/step - loss: 0.2708 - accuracy: 0.9928 - val_loss: 1.6563 - val_accuracy: 0.3908\n",
            "Epoch 140/200\n",
            "11/11 [==============================] - 3s 293ms/step - loss: 0.3532 - accuracy: 0.9799 - val_loss: 1.6457 - val_accuracy: 0.4023\n",
            "Epoch 141/200\n",
            "11/11 [==============================] - 3s 296ms/step - loss: 0.3001 - accuracy: 0.9856 - val_loss: 1.6501 - val_accuracy: 0.3908\n",
            "Epoch 142/200\n",
            "11/11 [==============================] - 3s 292ms/step - loss: 0.2861 - accuracy: 0.9914 - val_loss: 1.6473 - val_accuracy: 0.4023\n",
            "Epoch 143/200\n",
            "11/11 [==============================] - 3s 299ms/step - loss: 0.2918 - accuracy: 0.9899 - val_loss: 1.6440 - val_accuracy: 0.3908\n",
            "Epoch 144/200\n",
            "11/11 [==============================] - 3s 296ms/step - loss: 0.2774 - accuracy: 0.9914 - val_loss: 1.6439 - val_accuracy: 0.4023\n",
            "Epoch 145/200\n",
            "11/11 [==============================] - 3s 295ms/step - loss: 0.3747 - accuracy: 0.9784 - val_loss: 1.6524 - val_accuracy: 0.3908\n",
            "Epoch 146/200\n",
            "11/11 [==============================] - 3s 295ms/step - loss: 0.3221 - accuracy: 0.9885 - val_loss: 1.6476 - val_accuracy: 0.3563\n",
            "Epoch 147/200\n",
            "11/11 [==============================] - 3s 299ms/step - loss: 0.2589 - accuracy: 0.9957 - val_loss: 1.6525 - val_accuracy: 0.3793\n",
            "Epoch 148/200\n",
            "11/11 [==============================] - 3s 292ms/step - loss: 0.3114 - accuracy: 0.9885 - val_loss: 1.6446 - val_accuracy: 0.4138\n",
            "Epoch 149/200\n",
            "11/11 [==============================] - 3s 293ms/step - loss: 0.3286 - accuracy: 0.9770 - val_loss: 1.6580 - val_accuracy: 0.3908\n",
            "Epoch 150/200\n",
            "11/11 [==============================] - 3s 296ms/step - loss: 0.3097 - accuracy: 0.9856 - val_loss: 1.6587 - val_accuracy: 0.3908\n",
            "Epoch 151/200\n",
            "11/11 [==============================] - 3s 300ms/step - loss: 0.3061 - accuracy: 0.9756 - val_loss: 1.6565 - val_accuracy: 0.3793\n",
            "Epoch 152/200\n",
            "11/11 [==============================] - 3s 292ms/step - loss: 0.2599 - accuracy: 0.9957 - val_loss: 1.6557 - val_accuracy: 0.3563\n",
            "Epoch 153/200\n",
            "11/11 [==============================] - 3s 296ms/step - loss: 0.2863 - accuracy: 0.9914 - val_loss: 1.6423 - val_accuracy: 0.3793\n",
            "Epoch 154/200\n",
            "11/11 [==============================] - 3s 295ms/step - loss: 0.2528 - accuracy: 0.9928 - val_loss: 1.6330 - val_accuracy: 0.4253\n",
            "Epoch 155/200\n",
            "11/11 [==============================] - 3s 301ms/step - loss: 0.3110 - accuracy: 0.9871 - val_loss: 1.6298 - val_accuracy: 0.4368\n",
            "Epoch 156/200\n",
            "11/11 [==============================] - 3s 297ms/step - loss: 0.3014 - accuracy: 0.9784 - val_loss: 1.6436 - val_accuracy: 0.4138\n",
            "Epoch 157/200\n",
            "11/11 [==============================] - 3s 296ms/step - loss: 0.2587 - accuracy: 0.9914 - val_loss: 1.6452 - val_accuracy: 0.4138\n",
            "Epoch 158/200\n",
            "11/11 [==============================] - 3s 296ms/step - loss: 0.2347 - accuracy: 0.9986 - val_loss: 1.6420 - val_accuracy: 0.4023\n",
            "Epoch 159/200\n",
            "11/11 [==============================] - 3s 303ms/step - loss: 0.2815 - accuracy: 0.9885 - val_loss: 1.6391 - val_accuracy: 0.3793\n",
            "Epoch 160/200\n",
            "11/11 [==============================] - 3s 292ms/step - loss: 0.2561 - accuracy: 0.9943 - val_loss: 1.6393 - val_accuracy: 0.3908\n",
            "Epoch 161/200\n",
            "11/11 [==============================] - 3s 295ms/step - loss: 0.2614 - accuracy: 0.9813 - val_loss: 1.6236 - val_accuracy: 0.4253\n",
            "Epoch 162/200\n",
            "11/11 [==============================] - 3s 293ms/step - loss: 0.2684 - accuracy: 0.9842 - val_loss: 1.6206 - val_accuracy: 0.4368\n",
            "Epoch 163/200\n",
            "11/11 [==============================] - 3s 304ms/step - loss: 0.2384 - accuracy: 0.9943 - val_loss: 1.6180 - val_accuracy: 0.4253\n",
            "Epoch 164/200\n",
            "11/11 [==============================] - 3s 293ms/step - loss: 0.2349 - accuracy: 0.9899 - val_loss: 1.6275 - val_accuracy: 0.4138\n",
            "Epoch 165/200\n",
            "11/11 [==============================] - 3s 293ms/step - loss: 0.2546 - accuracy: 0.9871 - val_loss: 1.6339 - val_accuracy: 0.4023\n",
            "Epoch 166/200\n",
            "11/11 [==============================] - 3s 296ms/step - loss: 0.2256 - accuracy: 0.9943 - val_loss: 1.6258 - val_accuracy: 0.4023\n",
            "Epoch 167/200\n",
            "11/11 [==============================] - 3s 301ms/step - loss: 0.2737 - accuracy: 0.9842 - val_loss: 1.6230 - val_accuracy: 0.4368\n",
            "Epoch 168/200\n",
            "11/11 [==============================] - 3s 296ms/step - loss: 0.2647 - accuracy: 0.9871 - val_loss: 1.6248 - val_accuracy: 0.3908\n",
            "Epoch 169/200\n",
            "11/11 [==============================] - 3s 295ms/step - loss: 0.2472 - accuracy: 0.9914 - val_loss: 1.6246 - val_accuracy: 0.4138\n",
            "Epoch 170/200\n",
            "11/11 [==============================] - 3s 291ms/step - loss: 0.2129 - accuracy: 0.9957 - val_loss: 1.6218 - val_accuracy: 0.4253\n",
            "Epoch 171/200\n",
            "11/11 [==============================] - 3s 305ms/step - loss: 0.2401 - accuracy: 0.9885 - val_loss: 1.6213 - val_accuracy: 0.4253\n",
            "Epoch 172/200\n",
            "11/11 [==============================] - 3s 295ms/step - loss: 0.2452 - accuracy: 0.9928 - val_loss: 1.6210 - val_accuracy: 0.4253\n",
            "Epoch 173/200\n",
            "11/11 [==============================] - 3s 296ms/step - loss: 0.1968 - accuracy: 0.9986 - val_loss: 1.6249 - val_accuracy: 0.4253\n",
            "Epoch 174/200\n",
            "11/11 [==============================] - 3s 292ms/step - loss: 0.1909 - accuracy: 0.9986 - val_loss: 1.6292 - val_accuracy: 0.4253\n",
            "Epoch 175/200\n",
            "11/11 [==============================] - 3s 302ms/step - loss: 0.2449 - accuracy: 0.9885 - val_loss: 1.6195 - val_accuracy: 0.4368\n",
            "Epoch 176/200\n",
            "11/11 [==============================] - 3s 293ms/step - loss: 0.2012 - accuracy: 0.9986 - val_loss: 1.6191 - val_accuracy: 0.4368\n",
            "Epoch 177/200\n",
            "11/11 [==============================] - 3s 292ms/step - loss: 0.2302 - accuracy: 0.9943 - val_loss: 1.6172 - val_accuracy: 0.3793\n",
            "Epoch 178/200\n",
            "11/11 [==============================] - 3s 300ms/step - loss: 0.1903 - accuracy: 0.9957 - val_loss: 1.6158 - val_accuracy: 0.4138\n",
            "Epoch 179/200\n",
            "11/11 [==============================] - 3s 304ms/step - loss: 0.2137 - accuracy: 0.9943 - val_loss: 1.6089 - val_accuracy: 0.4368\n",
            "Epoch 180/200\n",
            "11/11 [==============================] - 3s 297ms/step - loss: 0.1933 - accuracy: 0.9986 - val_loss: 1.6087 - val_accuracy: 0.4598\n",
            "Epoch 181/200\n",
            "11/11 [==============================] - 3s 292ms/step - loss: 0.1894 - accuracy: 0.9971 - val_loss: 1.6049 - val_accuracy: 0.4598\n",
            "Epoch 182/200\n",
            "11/11 [==============================] - 3s 297ms/step - loss: 0.1772 - accuracy: 0.9986 - val_loss: 1.6068 - val_accuracy: 0.4368\n",
            "Epoch 183/200\n",
            "11/11 [==============================] - 3s 298ms/step - loss: 0.1832 - accuracy: 0.9986 - val_loss: 1.6088 - val_accuracy: 0.4253\n",
            "Epoch 184/200\n",
            "11/11 [==============================] - 3s 298ms/step - loss: 0.1914 - accuracy: 0.9986 - val_loss: 1.6079 - val_accuracy: 0.4598\n",
            "Epoch 185/200\n",
            "11/11 [==============================] - 3s 297ms/step - loss: 0.2328 - accuracy: 0.9928 - val_loss: 1.6212 - val_accuracy: 0.4483\n",
            "Epoch 186/200\n",
            "11/11 [==============================] - 3s 295ms/step - loss: 0.1858 - accuracy: 0.9986 - val_loss: 1.6208 - val_accuracy: 0.4483\n",
            "Epoch 187/200\n",
            "11/11 [==============================] - 3s 298ms/step - loss: 0.1615 - accuracy: 0.9986 - val_loss: 1.6219 - val_accuracy: 0.4253\n",
            "Epoch 188/200\n",
            "11/11 [==============================] - 3s 296ms/step - loss: 0.2023 - accuracy: 0.9928 - val_loss: 1.6110 - val_accuracy: 0.4253\n",
            "Epoch 189/200\n",
            "11/11 [==============================] - 3s 295ms/step - loss: 0.1917 - accuracy: 0.9957 - val_loss: 1.5984 - val_accuracy: 0.4713\n",
            "Epoch 190/200\n",
            "11/11 [==============================] - 3s 293ms/step - loss: 0.1720 - accuracy: 0.9986 - val_loss: 1.5994 - val_accuracy: 0.4368\n",
            "Epoch 191/200\n",
            "11/11 [==============================] - 3s 296ms/step - loss: 0.1543 - accuracy: 1.0000 - val_loss: 1.6019 - val_accuracy: 0.4368\n",
            "Epoch 192/200\n",
            "11/11 [==============================] - 3s 294ms/step - loss: 0.1872 - accuracy: 0.9928 - val_loss: 1.6038 - val_accuracy: 0.4483\n",
            "Epoch 193/200\n",
            "11/11 [==============================] - 3s 296ms/step - loss: 0.2099 - accuracy: 0.9928 - val_loss: 1.6147 - val_accuracy: 0.4253\n",
            "Epoch 194/200\n",
            "11/11 [==============================] - 3s 292ms/step - loss: 0.1737 - accuracy: 0.9928 - val_loss: 1.6117 - val_accuracy: 0.4138\n",
            "Epoch 195/200\n",
            "11/11 [==============================] - 3s 299ms/step - loss: 0.1959 - accuracy: 0.9914 - val_loss: 1.6054 - val_accuracy: 0.4253\n",
            "Epoch 196/200\n",
            "11/11 [==============================] - 3s 295ms/step - loss: 0.2125 - accuracy: 0.9914 - val_loss: 1.6016 - val_accuracy: 0.4368\n",
            "Epoch 197/200\n",
            "11/11 [==============================] - 3s 293ms/step - loss: 0.2658 - accuracy: 0.9698 - val_loss: 1.5982 - val_accuracy: 0.4368\n",
            "Epoch 198/200\n",
            "11/11 [==============================] - 3s 297ms/step - loss: 0.1692 - accuracy: 0.9971 - val_loss: 1.5906 - val_accuracy: 0.4368\n",
            "Epoch 199/200\n",
            "11/11 [==============================] - 3s 298ms/step - loss: 0.2219 - accuracy: 0.9943 - val_loss: 1.5913 - val_accuracy: 0.4368\n",
            "Epoch 200/200\n",
            "11/11 [==============================] - 3s 293ms/step - loss: 0.1881 - accuracy: 0.9914 - val_loss: 1.5923 - val_accuracy: 0.4253\n"
          ]
        },
        {
          "output_type": "display_data",
          "data": {
            "text/plain": [
              "<Figure size 1400x600 with 0 Axes>"
            ]
          },
          "metadata": {}
        }
      ]
    },
    {
      "cell_type": "code",
      "source": [
        "plt.figure(figsize=(14, 6))\n",
        "\n",
        "plt.subplot(1, 2, 1)\n",
        "plt.plot(history_fractalnet.history['loss'][:100], label='train loss')\n",
        "plt.plot(history_fractalnet.history['val_loss'][:100], label='validation loss')\n",
        "plt.xlabel('Epoch')\n",
        "plt.ylabel('Loss')\n",
        "plt.title('Results comparison (loss)')\n",
        "plt.legend()\n",
        "\n",
        "plt.subplot(1, 2, 2)\n",
        "plt.plot(history_fractalnet.history['accuracy'][:100], label='train acc')\n",
        "plt.plot(history_fractalnet.history['val_accuracy'][:100], label='validation acc')\n",
        "plt.xlabel('Epoch')\n",
        "plt.ylabel('Accuracy')\n",
        "plt.title('Results comparison (acc)')\n",
        "plt.legend()\n",
        "plt.show()"
      ],
      "metadata": {
        "execution": {
          "iopub.status.busy": "2024-03-09T14:27:04.914384Z",
          "iopub.execute_input": "2024-03-09T14:27:04.914753Z",
          "iopub.status.idle": "2024-03-09T14:27:05.352668Z",
          "shell.execute_reply.started": "2024-03-09T14:27:04.914723Z",
          "shell.execute_reply": "2024-03-09T14:27:05.351763Z"
        },
        "trusted": true,
        "colab": {
          "base_uri": "https://localhost:8080/",
          "height": 564
        },
        "id": "omE3g74cY8mj",
        "outputId": "a87cd5c9-d916-41a7-e298-7d19f9b048f1"
      },
      "execution_count": 9,
      "outputs": [
        {
          "output_type": "display_data",
          "data": {
            "text/plain": [
              "<Figure size 1400x600 with 2 Axes>"
            ],
            "image/png": "[encoded data removed]"
          },
          "metadata": {}
        }
      ]
    },
    {
      "cell_type": "code",
      "source": [
        "predictions = fractal_model.predict(X_test)\n",
        "predicted_labels = np.argmax(predictions, axis=1)\n",
        "accuracy_result = accuracy_score(y_test, predicted_labels)\n",
        "\n",
        "print(\"Test samples accuracy:\", accuracy_result)"
      ],
      "metadata": {
        "execution": {
          "iopub.status.busy": "2024-03-09T14:27:23.167233Z",
          "iopub.execute_input": "2024-03-09T14:27:23.167566Z",
          "iopub.status.idle": "2024-03-09T14:27:26.431757Z",
          "shell.execute_reply.started": "2024-03-09T14:27:23.167542Z",
          "shell.execute_reply": "2024-03-09T14:27:26.430854Z"
        },
        "trusted": true,
        "colab": {
          "base_uri": "https://localhost:8080/"
        },
        "id": "OruS2zooY8mk",
        "outputId": "ca3bd7c7-108d-44f7-91fc-aeffeef297ad"
      },
      "execution_count": 10,
      "outputs": [
        {
          "output_type": "stream",
          "name": "stdout",
          "text": [
            "3/3 [==============================] - 2s 300ms/step\n",
            "Test samples accuracy: 0.3977272727272727\n"
          ]
        }
      ]
    },
    {
      "cell_type": "code",
      "source": [
        "y_test_encoded = tf.keras.utils.to_categorical(y_test)\n",
        "test_loss = fractal_model.evaluate(X_test, y_test_encoded, verbose=0)\n",
        "print(\"Test loss:\", test_loss)"
      ],
      "metadata": {
        "execution": {
          "iopub.status.busy": "2024-03-09T14:27:30.310997Z",
          "iopub.execute_input": "2024-03-09T14:27:30.311364Z",
          "iopub.status.idle": "2024-03-09T14:27:32.896318Z",
          "shell.execute_reply.started": "2024-03-09T14:27:30.311336Z",
          "shell.execute_reply": "2024-03-09T14:27:32.895417Z"
        },
        "trusted": true,
        "colab": {
          "base_uri": "https://localhost:8080/"
        },
        "id": "95F11H-8Y8ml",
        "outputId": "a3b81f09-656b-4d65-c09d-0fe554aeff42"
      },
      "execution_count": null,
      "outputs": [
        {
          "output_type": "stream",
          "name": "stdout",
          "text": [
            "Test loss: [1.7006577253341675, 0.35227271914482117]\n"
          ]
        }
      ]
    },
    {
      "cell_type": "code",
      "source": [
        "predicted_labels = np.argmax(predictions, axis=1)\n",
        "\n",
        "cm = confusion_matrix(y_test, predicted_labels)\n",
        "ConfusionMatrixDisplay(cm).plot()"
      ],
      "metadata": {
        "execution": {
          "iopub.status.busy": "2024-03-09T14:27:37.653332Z",
          "iopub.execute_input": "2024-03-09T14:27:37.653682Z",
          "iopub.status.idle": "2024-03-09T14:27:38.726968Z",
          "shell.execute_reply.started": "2024-03-09T14:27:37.653653Z",
          "shell.execute_reply": "2024-03-09T14:27:38.725937Z"
        },
        "trusted": true,
        "colab": {
          "base_uri": "https://localhost:8080/",
          "height": 472
        },
        "id": "OrWH4uATY8ml",
        "outputId": "5d434f83-25f3-45af-db60-3f5698117c22"
      },
      "execution_count": null,
      "outputs": [
        {
          "output_type": "execute_result",
          "data": {
            "text/plain": [
              "<sklearn.metrics._plot.confusion_matrix.ConfusionMatrixDisplay at 0x7d65a85dffa0>"
            ]
          },
          "metadata": {},
          "execution_count": 29
        },
        {
          "output_type": "display_data",
          "data": {
            "text/plain": [
              "<Figure size 640x480 with 2 Axes>"
            ],
            "image/png": "[encoded data removed]"
          },
          "metadata": {}
        }
      ]
    },
    {
      "cell_type": "code",
      "source": [
        "classification_results = classification_report(y_test, predicted_labels, target_names=types)\n",
        "\n",
        "print(\"Classification results:\\n\", classification_results)"
      ],
      "metadata": {
        "colab": {
          "base_uri": "https://localhost:8080/"
        },
        "id": "NlSqydWxyIGp",
        "outputId": "f7fed60d-f111-4de5-d839-3c9d3a831642"
      },
      "execution_count": 14,
      "outputs": [
        {
          "output_type": "stream",
          "name": "stdout",
          "text": [
            "Classification results:\n",
            "                     precision    recall  f1-score   support\n",
            "\n",
            "attack_helicopters       0.36      0.29      0.32        14\n",
            " fighter_aircrafts       0.33      0.44      0.38         9\n",
            "             il-76       0.65      0.62      0.63        21\n",
            "             tu-22       0.00      0.00      0.00        11\n",
            "             tu-95       0.20      0.20      0.20        10\n",
            "            tu-160       0.47      0.47      0.47        15\n",
            "       noaircrafts       0.29      0.62      0.40         8\n",
            "\n",
            "          accuracy                           0.40        88\n",
            "         macro avg       0.33      0.38      0.34        88\n",
            "      weighted avg       0.38      0.40      0.38        88\n",
            "\n"
          ]
        }
      ]
    },
    {
      "cell_type": "code",
      "source": [
        "X_train = X_train * 255.0\n",
        "X_val = X_val * 255.0\n",
        "X_test = X_test * 255.0"
      ],
      "metadata": {
        "id": "F6ZixRVZYQCf"
      },
      "execution_count": null,
      "outputs": []
    },
    {
      "cell_type": "code",
      "source": [
        "datagen = ImageDataGenerator(\n",
        "    rotation_range=90,\n",
        "    width_shift_range=0.2,\n",
        "    height_shift_range=0.2,\n",
        "    shear_range=0.2,\n",
        "    zoom_range=0.2,\n",
        "    horizontal_flip=True,\n",
        "    fill_mode='nearest',\n",
        "    dtype='uint8'\n",
        ")\n",
        "\n",
        "updated_images = []\n",
        "updated_labels = []\n",
        "\n",
        "for img, label in zip(X_train, y_train):\n",
        "    img = img.reshape((1,) + img.shape) / 255.0  # Normalize here\n",
        "    label_one_hot = to_categorical(label, num_classes=len(types))  # Convert label to one-hot\n",
        "    for _ in range(30):\n",
        "        new_img = datagen.flow(img, batch_size=1)[0][0]\n",
        "        updated_images.append(new_img)\n",
        "        updated_labels.append(label_one_hot)\n",
        "\n",
        "X_train = np.array(updated_images)\n",
        "y_train = np.array(updated_labels)\n",
        "\n",
        "# Repeat the same process for X_val and X_test\n",
        "\n",
        "updated_images = []\n",
        "updated_labels = []\n",
        "\n",
        "for img, label in zip(X_val, y_val):\n",
        "    img = img.reshape((1,) + img.shape) / 255.0  # Normalize here\n",
        "    label_one_hot = to_categorical(label, num_classes=len(types))  # Convert label to one-hot\n",
        "    for _ in range(30):\n",
        "        new_img = datagen.flow(img, batch_size=1)[0][0]\n",
        "        updated_images.append(new_img)\n",
        "        updated_labels.append(label_one_hot)\n",
        "\n",
        "X_val = np.array(updated_images)\n",
        "y_val = np.array(updated_labels)\n",
        "\n",
        "updated_images = []\n",
        "updated_labels = []\n",
        "\n",
        "for img, label in zip(X_test, y_test):\n",
        "    img = img.reshape((1,) + img.shape) / 255.0  # Normalize here\n",
        "    label_one_hot = to_categorical(label, num_classes=len(types))  # Convert label to one-hot\n",
        "    for _ in range(30):\n",
        "        new_img = datagen.flow(img, batch_size=1)[0][0]\n",
        "        updated_images.append(new_img)\n",
        "        updated_labels.append(label_one_hot)\n",
        "\n",
        "X_test = np.array(updated_images)\n",
        "y_test = np.array(updated_labels)"
      ],
      "metadata": {
        "id": "39tfKuXaYQO_"
      },
      "execution_count": null,
      "outputs": []
    },
    {
      "cell_type": "code",
      "source": [
        "print(len(X_train), len(X_test), len(X_val))\n",
        "print(len(y_train), len(y_test), len(y_val))"
      ],
      "metadata": {
        "colab": {
          "base_uri": "https://localhost:8080/"
        },
        "id": "QsqIgzniYQRH",
        "outputId": "e7afb6c6-f0c4-444d-9d18-5cfd64a172d5"
      },
      "execution_count": null,
      "outputs": [
        {
          "output_type": "stream",
          "name": "stdout",
          "text": [
            "20880 2640 2610\n",
            "20880 2640 2610\n"
          ]
        }
      ]
    },
    {
      "cell_type": "code",
      "source": [
        "plt.figure(figsize=(14, 6))\n",
        "\n",
        "fractal_model = fractal_network(shape, blocks_count=4, columns_count=4, filters=32, kernel_size=(3, 3), padding='same')\n",
        "fractal_model.compile(keras.optimizers.Adam(learning_rate=0.00001), loss='categorical_crossentropy', metrics=['accuracy'])\n",
        "history_fractalnet_augm = fractal_model.fit(X_train, y_train_one_hot, epochs=200, batch_size=64, validation_data=(X_val, y_val_one_hot))"
      ],
      "metadata": {
        "colab": {
          "base_uri": "https://localhost:8080/",
          "height": 810
        },
        "id": "QNxmfgp2ZjCj",
        "outputId": "8cdb9ab2-4172-4e1a-851f-1d1cd0dee996"
      },
      "execution_count": null,
      "outputs": [
        {
          "output_type": "stream",
          "name": "stdout",
          "text": [
            "gl_dp=True, lc_dp=False\n",
            "KerasTensor(type_spec=TensorSpec(shape=(None, 128, 128, 32), dtype=tf.float32, name=None), name='tf.math.reduce_mean_16/Mean:0', description=\"created by layer 'tf.math.reduce_mean_16'\")\n",
            "KerasTensor(type_spec=TensorSpec(shape=(None, 128, 128, 32), dtype=tf.float32, name=None), name='tf.math.reduce_mean_17/Mean:0', description=\"created by layer 'tf.math.reduce_mean_17'\")\n",
            "KerasTensor(type_spec=TensorSpec(shape=(None, 128, 128, 32), dtype=tf.float32, name=None), name='tf.math.reduce_mean_18/Mean:0', description=\"created by layer 'tf.math.reduce_mean_18'\")\n",
            "KerasTensor(type_spec=TensorSpec(shape=(None, 128, 128, 32), dtype=tf.float32, name=None), name='tf.math.reduce_mean_19/Mean:0', description=\"created by layer 'tf.math.reduce_mean_19'\")\n",
            "gl_dp=False, lc_dp=True\n",
            "KerasTensor(type_spec=TensorSpec(shape=(None, 64, 64, 32), dtype=tf.float32, name=None), name='tf.math.reduce_mean_20/Mean:0', description=\"created by layer 'tf.math.reduce_mean_20'\")\n",
            "KerasTensor(type_spec=TensorSpec(shape=(None, 64, 64, 32), dtype=tf.float32, name=None), name='tf.math.reduce_mean_21/Mean:0', description=\"created by layer 'tf.math.reduce_mean_21'\")\n",
            "KerasTensor(type_spec=TensorSpec(shape=(None, 64, 64, 32), dtype=tf.float32, name=None), name='tf.math.reduce_mean_22/Mean:0', description=\"created by layer 'tf.math.reduce_mean_22'\")\n",
            "KerasTensor(type_spec=TensorSpec(shape=(None, 64, 64, 32), dtype=tf.float32, name=None), name='tf.math.reduce_mean_23/Mean:0', description=\"created by layer 'tf.math.reduce_mean_23'\")\n",
            "gl_dp=True, lc_dp=False\n",
            "KerasTensor(type_spec=TensorSpec(shape=(None, 32, 32, 32), dtype=tf.float32, name=None), name='tf.math.reduce_mean_24/Mean:0', description=\"created by layer 'tf.math.reduce_mean_24'\")\n",
            "KerasTensor(type_spec=TensorSpec(shape=(None, 32, 32, 32), dtype=tf.float32, name=None), name='tf.math.reduce_mean_25/Mean:0', description=\"created by layer 'tf.math.reduce_mean_25'\")\n",
            "KerasTensor(type_spec=TensorSpec(shape=(None, 32, 32, 32), dtype=tf.float32, name=None), name='tf.math.reduce_mean_26/Mean:0', description=\"created by layer 'tf.math.reduce_mean_26'\")\n",
            "KerasTensor(type_spec=TensorSpec(shape=(None, 32, 32, 32), dtype=tf.float32, name=None), name='tf.math.reduce_mean_27/Mean:0', description=\"created by layer 'tf.math.reduce_mean_27'\")\n",
            "gl_dp=False, lc_dp=True\n",
            "KerasTensor(type_spec=TensorSpec(shape=(None, 16, 16, 32), dtype=tf.float32, name=None), name='tf.math.reduce_mean_28/Mean:0', description=\"created by layer 'tf.math.reduce_mean_28'\")\n",
            "KerasTensor(type_spec=TensorSpec(shape=(None, 16, 16, 32), dtype=tf.float32, name=None), name='tf.math.reduce_mean_29/Mean:0', description=\"created by layer 'tf.math.reduce_mean_29'\")\n",
            "KerasTensor(type_spec=TensorSpec(shape=(None, 16, 16, 32), dtype=tf.float32, name=None), name='tf.math.reduce_mean_30/Mean:0', description=\"created by layer 'tf.math.reduce_mean_30'\")\n",
            "KerasTensor(type_spec=TensorSpec(shape=(None, 16, 16, 32), dtype=tf.float32, name=None), name='tf.math.reduce_mean_31/Mean:0', description=\"created by layer 'tf.math.reduce_mean_31'\")\n"
          ]
        },
        {
          "output_type": "error",
          "ename": "ValueError",
          "evalue": "Data cardinality is ambiguous:\n  x sizes: 20880\n  y sizes: 696\nMake sure all arrays contain the same number of samples.",
          "traceback": [
            "\u001b[0;31m---------------------------------------------------------------------------\u001b[0m",
            "\u001b[0;31mValueError\u001b[0m                                Traceback (most recent call last)",
            "\u001b[0;32m<ipython-input-37-d6b156f00db2>\u001b[0m in \u001b[0;36m<cell line: 5>\u001b[0;34m()\u001b[0m\n\u001b[1;32m      3\u001b[0m \u001b[0mfractal_model\u001b[0m \u001b[0;34m=\u001b[0m \u001b[0mfractal_network\u001b[0m\u001b[0;34m(\u001b[0m\u001b[0mshape\u001b[0m\u001b[0;34m,\u001b[0m \u001b[0mblocks_count\u001b[0m\u001b[0;34m=\u001b[0m\u001b[0;36m4\u001b[0m\u001b[0;34m,\u001b[0m \u001b[0mcolumns_count\u001b[0m\u001b[0;34m=\u001b[0m\u001b[0;36m4\u001b[0m\u001b[0;34m,\u001b[0m \u001b[0mfilters\u001b[0m\u001b[0;34m=\u001b[0m\u001b[0;36m32\u001b[0m\u001b[0;34m,\u001b[0m \u001b[0mkernel_size\u001b[0m\u001b[0;34m=\u001b[0m\u001b[0;34m(\u001b[0m\u001b[0;36m3\u001b[0m\u001b[0;34m,\u001b[0m \u001b[0;36m3\u001b[0m\u001b[0;34m)\u001b[0m\u001b[0;34m,\u001b[0m \u001b[0mpadding\u001b[0m\u001b[0;34m=\u001b[0m\u001b[0;34m'same'\u001b[0m\u001b[0;34m)\u001b[0m\u001b[0;34m\u001b[0m\u001b[0;34m\u001b[0m\u001b[0m\n\u001b[1;32m      4\u001b[0m \u001b[0mfractal_model\u001b[0m\u001b[0;34m.\u001b[0m\u001b[0mcompile\u001b[0m\u001b[0;34m(\u001b[0m\u001b[0mkeras\u001b[0m\u001b[0;34m.\u001b[0m\u001b[0moptimizers\u001b[0m\u001b[0;34m.\u001b[0m\u001b[0mAdam\u001b[0m\u001b[0;34m(\u001b[0m\u001b[0mlearning_rate\u001b[0m\u001b[0;34m=\u001b[0m\u001b[0;36m0.00001\u001b[0m\u001b[0;34m)\u001b[0m\u001b[0;34m,\u001b[0m \u001b[0mloss\u001b[0m\u001b[0;34m=\u001b[0m\u001b[0;34m'categorical_crossentropy'\u001b[0m\u001b[0;34m,\u001b[0m \u001b[0mmetrics\u001b[0m\u001b[0;34m=\u001b[0m\u001b[0;34m[\u001b[0m\u001b[0;34m'accuracy'\u001b[0m\u001b[0;34m]\u001b[0m\u001b[0;34m)\u001b[0m\u001b[0;34m\u001b[0m\u001b[0;34m\u001b[0m\u001b[0m\n\u001b[0;32m----> 5\u001b[0;31m \u001b[0mhistory_fractalnet_augm\u001b[0m \u001b[0;34m=\u001b[0m \u001b[0mfractal_model\u001b[0m\u001b[0;34m.\u001b[0m\u001b[0mfit\u001b[0m\u001b[0;34m(\u001b[0m\u001b[0mX_train\u001b[0m\u001b[0;34m,\u001b[0m \u001b[0my_train_one_hot\u001b[0m\u001b[0;34m,\u001b[0m \u001b[0mepochs\u001b[0m\u001b[0;34m=\u001b[0m\u001b[0;36m200\u001b[0m\u001b[0;34m,\u001b[0m \u001b[0mbatch_size\u001b[0m\u001b[0;34m=\u001b[0m\u001b[0;36m64\u001b[0m\u001b[0;34m,\u001b[0m \u001b[0mvalidation_data\u001b[0m\u001b[0;34m=\u001b[0m\u001b[0;34m(\u001b[0m\u001b[0mX_val\u001b[0m\u001b[0;34m,\u001b[0m \u001b[0my_val_one_hot\u001b[0m\u001b[0;34m)\u001b[0m\u001b[0;34m)\u001b[0m\u001b[0;34m\u001b[0m\u001b[0;34m\u001b[0m\u001b[0m\n\u001b[0m",
            "\u001b[0;32m/usr/local/lib/python3.10/dist-packages/keras/src/utils/traceback_utils.py\u001b[0m in \u001b[0;36merror_handler\u001b[0;34m(*args, **kwargs)\u001b[0m\n\u001b[1;32m     68\u001b[0m             \u001b[0;31m# To get the full stack trace, call:\u001b[0m\u001b[0;34m\u001b[0m\u001b[0;34m\u001b[0m\u001b[0m\n\u001b[1;32m     69\u001b[0m             \u001b[0;31m# `tf.debugging.disable_traceback_filtering()`\u001b[0m\u001b[0;34m\u001b[0m\u001b[0;34m\u001b[0m\u001b[0m\n\u001b[0;32m---> 70\u001b[0;31m             \u001b[0;32mraise\u001b[0m \u001b[0me\u001b[0m\u001b[0;34m.\u001b[0m\u001b[0mwith_traceback\u001b[0m\u001b[0;34m(\u001b[0m\u001b[0mfiltered_tb\u001b[0m\u001b[0;34m)\u001b[0m \u001b[0;32mfrom\u001b[0m \u001b[0;32mNone\u001b[0m\u001b[0;34m\u001b[0m\u001b[0;34m\u001b[0m\u001b[0m\n\u001b[0m\u001b[1;32m     71\u001b[0m         \u001b[0;32mfinally\u001b[0m\u001b[0;34m:\u001b[0m\u001b[0;34m\u001b[0m\u001b[0;34m\u001b[0m\u001b[0m\n\u001b[1;32m     72\u001b[0m             \u001b[0;32mdel\u001b[0m \u001b[0mfiltered_tb\u001b[0m\u001b[0;34m\u001b[0m\u001b[0;34m\u001b[0m\u001b[0m\n",
            "\u001b[0;32m/usr/local/lib/python3.10/dist-packages/keras/src/engine/data_adapter.py\u001b[0m in \u001b[0;36m_check_data_cardinality\u001b[0;34m(data)\u001b[0m\n\u001b[1;32m   1958\u001b[0m             )\n\u001b[1;32m   1959\u001b[0m         \u001b[0mmsg\u001b[0m \u001b[0;34m+=\u001b[0m \u001b[0;34m\"Make sure all arrays contain the same number of samples.\"\u001b[0m\u001b[0;34m\u001b[0m\u001b[0;34m\u001b[0m\u001b[0m\n\u001b[0;32m-> 1960\u001b[0;31m         \u001b[0;32mraise\u001b[0m \u001b[0mValueError\u001b[0m\u001b[0;34m(\u001b[0m\u001b[0mmsg\u001b[0m\u001b[0;34m)\u001b[0m\u001b[0;34m\u001b[0m\u001b[0;34m\u001b[0m\u001b[0m\n\u001b[0m\u001b[1;32m   1961\u001b[0m \u001b[0;34m\u001b[0m\u001b[0m\n\u001b[1;32m   1962\u001b[0m \u001b[0;34m\u001b[0m\u001b[0m\n",
            "\u001b[0;31mValueError\u001b[0m: Data cardinality is ambiguous:\n  x sizes: 20880\n  y sizes: 696\nMake sure all arrays contain the same number of samples."
          ]
        },
        {
          "output_type": "display_data",
          "data": {
            "text/plain": [
              "<Figure size 1400x600 with 0 Axes>"
            ]
          },
          "metadata": {}
        }
      ]
    },
    {
      "cell_type": "code",
      "source": [],
      "metadata": {
        "id": "_aw4CviEYQUQ"
      },
      "execution_count": null,
      "outputs": []
    },
    {
      "cell_type": "code",
      "source": [],
      "metadata": {
        "id": "NHzO6vufYQXO"
      },
      "execution_count": null,
      "outputs": []
    },
    {
      "cell_type": "code",
      "source": [
        "fractal_model.save('./fractalnet.h5')"
      ],
      "metadata": {
        "execution": {
          "iopub.status.busy": "2024-03-09T15:51:23.045609Z",
          "iopub.execute_input": "2024-03-09T15:51:23.045989Z",
          "iopub.status.idle": "2024-03-09T15:51:23.319546Z",
          "shell.execute_reply.started": "2024-03-09T15:51:23.045957Z",
          "shell.execute_reply": "2024-03-09T15:51:23.318567Z"
        },
        "trusted": true,
        "id": "iGwp-2EZY8mm"
      },
      "execution_count": null,
      "outputs": []
    },
    {
      "cell_type": "code",
      "source": [
        "resnet_model = ResNet50(include_top=True,\n",
        "                  weights=None,\n",
        "                  input_shape=shape,\n",
        "                  pooling='avg',\n",
        "                  classes=len(types),\n",
        "                  classifier_activation='softmax')\n",
        "\n",
        "resnet_model.compile(keras.optimizers.RMSprop(learning_rate=0.00001), loss='categorical_crossentropy', metrics=['accuracy'])\n",
        "resnet_model.summary()"
      ],
      "metadata": {
        "execution": {
          "iopub.status.busy": "2024-03-09T15:51:23.321423Z",
          "iopub.execute_input": "2024-03-09T15:51:23.321685Z",
          "iopub.status.idle": "2024-03-09T15:51:25.218833Z",
          "shell.execute_reply.started": "2024-03-09T15:51:23.321663Z",
          "shell.execute_reply": "2024-03-09T15:51:25.217967Z"
        },
        "trusted": true,
        "id": "HZanS187Y8mm",
        "outputId": "3c19f7e2-adc4-4c81-85a9-56545ff1f718"
      },
      "execution_count": null,
      "outputs": [
        {
          "name": "stdout",
          "text": "Model: \"resnet50\"\n__________________________________________________________________________________________________\n Layer (type)                Output Shape                 Param #   Connected to                  \n==================================================================================================\n input_3 (InputLayer)        [(None, 128, 128, 3)]        0         []                            \n                                                                                                  \n conv1_pad (ZeroPadding2D)   (None, 134, 134, 3)          0         ['input_3[0][0]']             \n                                                                                                  \n conv1_conv (Conv2D)         (None, 64, 64, 64)           9472      ['conv1_pad[0][0]']           \n                                                                                                  \n conv1_bn (BatchNormalizati  (None, 64, 64, 64)           256       ['conv1_conv[0][0]']          \n on)                                                                                              \n                                                                                                  \n conv1_relu (Activation)     (None, 64, 64, 64)           0         ['conv1_bn[0][0]']            \n                                                                                                  \n pool1_pad (ZeroPadding2D)   (None, 66, 66, 64)           0         ['conv1_relu[0][0]']          \n                                                                                                  \n pool1_pool (MaxPooling2D)   (None, 32, 32, 64)           0         ['pool1_pad[0][0]']           \n                                                                                                  \n conv2_block1_1_conv (Conv2  (None, 32, 32, 64)           4160      ['pool1_pool[0][0]']          \n D)                                                                                               \n                                                                                                  \n conv2_block1_1_bn (BatchNo  (None, 32, 32, 64)           256       ['conv2_block1_1_conv[0][0]'] \n rmalization)                                                                                     \n                                                                                                  \n conv2_block1_1_relu (Activ  (None, 32, 32, 64)           0         ['conv2_block1_1_bn[0][0]']   \n ation)                                                                                           \n                                                                                                  \n conv2_block1_2_conv (Conv2  (None, 32, 32, 64)           36928     ['conv2_block1_1_relu[0][0]'] \n D)                                                                                               \n                                                                                                  \n conv2_block1_2_bn (BatchNo  (None, 32, 32, 64)           256       ['conv2_block1_2_conv[0][0]'] \n rmalization)                                                                                     \n                                                                                                  \n conv2_block1_2_relu (Activ  (None, 32, 32, 64)           0         ['conv2_block1_2_bn[0][0]']   \n ation)                                                                                           \n                                                                                                  \n conv2_block1_0_conv (Conv2  (None, 32, 32, 256)          16640     ['pool1_pool[0][0]']          \n D)                                                                                               \n                                                                                                  \n conv2_block1_3_conv (Conv2  (None, 32, 32, 256)          16640     ['conv2_block1_2_relu[0][0]'] \n D)                                                                                               \n                                                                                                  \n conv2_block1_0_bn (BatchNo  (None, 32, 32, 256)          1024      ['conv2_block1_0_conv[0][0]'] \n rmalization)                                                                                     \n                                                                                                  \n conv2_block1_3_bn (BatchNo  (None, 32, 32, 256)          1024      ['conv2_block1_3_conv[0][0]'] \n rmalization)                                                                                     \n                                                                                                  \n conv2_block1_add (Add)      (None, 32, 32, 256)          0         ['conv2_block1_0_bn[0][0]',   \n                                                                     'conv2_block1_3_bn[0][0]']   \n                                                                                                  \n conv2_block1_out (Activati  (None, 32, 32, 256)          0         ['conv2_block1_add[0][0]']    \n on)                                                                                              \n                                                                                                  \n conv2_block2_1_conv (Conv2  (None, 32, 32, 64)           16448     ['conv2_block1_out[0][0]']    \n D)                                                                                               \n                                                                                                  \n conv2_block2_1_bn (BatchNo  (None, 32, 32, 64)           256       ['conv2_block2_1_conv[0][0]'] \n rmalization)                                                                                     \n                                                                                                  \n conv2_block2_1_relu (Activ  (None, 32, 32, 64)           0         ['conv2_block2_1_bn[0][0]']   \n ation)                                                                                           \n                                                                                                  \n conv2_block2_2_conv (Conv2  (None, 32, 32, 64)           36928     ['conv2_block2_1_relu[0][0]'] \n D)                                                                                               \n                                                                                                  \n conv2_block2_2_bn (BatchNo  (None, 32, 32, 64)           256       ['conv2_block2_2_conv[0][0]'] \n rmalization)                                                                                     \n                                                                                                  \n conv2_block2_2_relu (Activ  (None, 32, 32, 64)           0         ['conv2_block2_2_bn[0][0]']   \n ation)                                                                                           \n                                                                                                  \n conv2_block2_3_conv (Conv2  (None, 32, 32, 256)          16640     ['conv2_block2_2_relu[0][0]'] \n D)                                                                                               \n                                                                                                  \n conv2_block2_3_bn (BatchNo  (None, 32, 32, 256)          1024      ['conv2_block2_3_conv[0][0]'] \n rmalization)                                                                                     \n                                                                                                  \n conv2_block2_add (Add)      (None, 32, 32, 256)          0         ['conv2_block1_out[0][0]',    \n                                                                     'conv2_block2_3_bn[0][0]']   \n                                                                                                  \n conv2_block2_out (Activati  (None, 32, 32, 256)          0         ['conv2_block2_add[0][0]']    \n on)                                                                                              \n                                                                                                  \n conv2_block3_1_conv (Conv2  (None, 32, 32, 64)           16448     ['conv2_block2_out[0][0]']    \n D)                                                                                               \n                                                                                                  \n conv2_block3_1_bn (BatchNo  (None, 32, 32, 64)           256       ['conv2_block3_1_conv[0][0]'] \n rmalization)                                                                                     \n                                                                                                  \n conv2_block3_1_relu (Activ  (None, 32, 32, 64)           0         ['conv2_block3_1_bn[0][0]']   \n ation)                                                                                           \n                                                                                                  \n conv2_block3_2_conv (Conv2  (None, 32, 32, 64)           36928     ['conv2_block3_1_relu[0][0]'] \n D)                                                                                               \n                                                                                                  \n conv2_block3_2_bn (BatchNo  (None, 32, 32, 64)           256       ['conv2_block3_2_conv[0][0]'] \n rmalization)                                                                                     \n                                                                                                  \n conv2_block3_2_relu (Activ  (None, 32, 32, 64)           0         ['conv2_block3_2_bn[0][0]']   \n ation)                                                                                           \n                                                                                                  \n conv2_block3_3_conv (Conv2  (None, 32, 32, 256)          16640     ['conv2_block3_2_relu[0][0]'] \n D)                                                                                               \n                                                                                                  \n conv2_block3_3_bn (BatchNo  (None, 32, 32, 256)          1024      ['conv2_block3_3_conv[0][0]'] \n rmalization)                                                                                     \n                                                                                                  \n conv2_block3_add (Add)      (None, 32, 32, 256)          0         ['conv2_block2_out[0][0]',    \n                                                                     'conv2_block3_3_bn[0][0]']   \n                                                                                                  \n conv2_block3_out (Activati  (None, 32, 32, 256)          0         ['conv2_block3_add[0][0]']    \n on)                                                                                              \n                                                                                                  \n conv3_block1_1_conv (Conv2  (None, 16, 16, 128)          32896     ['conv2_block3_out[0][0]']    \n D)                                                                                               \n                                                                                                  \n conv3_block1_1_bn (BatchNo  (None, 16, 16, 128)          512       ['conv3_block1_1_conv[0][0]'] \n rmalization)                                                                                     \n                                                                                                  \n conv3_block1_1_relu (Activ  (None, 16, 16, 128)          0         ['conv3_block1_1_bn[0][0]']   \n ation)                                                                                           \n                                                                                                  \n conv3_block1_2_conv (Conv2  (None, 16, 16, 128)          147584    ['conv3_block1_1_relu[0][0]'] \n D)                                                                                               \n                                                                                                  \n conv3_block1_2_bn (BatchNo  (None, 16, 16, 128)          512       ['conv3_block1_2_conv[0][0]'] \n rmalization)                                                                                     \n                                                                                                  \n conv3_block1_2_relu (Activ  (None, 16, 16, 128)          0         ['conv3_block1_2_bn[0][0]']   \n ation)                                                                                           \n                                                                                                  \n conv3_block1_0_conv (Conv2  (None, 16, 16, 512)          131584    ['conv2_block3_out[0][0]']    \n D)                                                                                               \n                                                                                                  \n conv3_block1_3_conv (Conv2  (None, 16, 16, 512)          66048     ['conv3_block1_2_relu[0][0]'] \n D)                                                                                               \n                                                                                                  \n conv3_block1_0_bn (BatchNo  (None, 16, 16, 512)          2048      ['conv3_block1_0_conv[0][0]'] \n rmalization)                                                                                     \n                                                                                                  \n conv3_block1_3_bn (BatchNo  (None, 16, 16, 512)          2048      ['conv3_block1_3_conv[0][0]'] \n rmalization)                                                                                     \n                                                                                                  \n conv3_block1_add (Add)      (None, 16, 16, 512)          0         ['conv3_block1_0_bn[0][0]',   \n                                                                     'conv3_block1_3_bn[0][0]']   \n                                                                                                  \n conv3_block1_out (Activati  (None, 16, 16, 512)          0         ['conv3_block1_add[0][0]']    \n on)                                                                                              \n                                                                                                  \n conv3_block2_1_conv (Conv2  (None, 16, 16, 128)          65664     ['conv3_block1_out[0][0]']    \n D)                                                                                               \n                                                                                                  \n conv3_block2_1_conv (Conv2  (None, 16, 16, 128)          65664     ['conv3_block1_out[0][0]']    \n D)                                                                                               \n                                                                                                  \n conv3_block2_1_bn (BatchNo  (None, 16, 16, 128)          512       ['conv3_block2_1_conv[0][0]'] \n rmalization)                                                                                     \n                                                                                                  \n conv3_block2_1_relu (Activ  (None, 16, 16, 128)          0         ['conv3_block2_1_bn[0][0]']   \n ation)                                                                                           \n                                                                                                  \n conv3_block2_2_conv (Conv2  (None, 16, 16, 128)          147584    ['conv3_block2_1_relu[0][0]'] \n D)                                                                                               \n                                                                                                  \n conv3_block2_2_bn (BatchNo  (None, 16, 16, 128)          512       ['conv3_block2_2_conv[0][0]'] \n rmalization)                                                                                     \n                                                                                                  \n conv3_block2_2_relu (Activ  (None, 16, 16, 128)          0         ['conv3_block2_2_bn[0][0]']   \n ation)                                                                                           \n                                                                                                  \n conv3_block2_3_conv (Conv2  (None, 16, 16, 512)          66048     ['conv3_block2_2_relu[0][0]'] \n D)                                                                                               \n                                                                                                  \n conv3_block2_3_bn (BatchNo  (None, 16, 16, 512)          2048      ['conv3_block2_3_conv[0][0]'] \n rmalization)                                                                                     \n                                                                                                  \n conv3_block2_add (Add)      (None, 16, 16, 512)          0         ['conv3_block1_out[0][0]',    \n                                                                     'conv3_block2_3_bn[0][0]']   \n                                                                                                  \n conv3_block2_out (Activati  (None, 16, 16, 512)          0         ['conv3_block2_add[0][0]']    \n on)                                                                                              \n                                                                                                  \n conv3_block3_1_conv (Conv2  (None, 16, 16, 128)          65664     ['conv3_block2_out[0][0]']    \n D)                                                                                               \n                                                                                                  \n conv3_block3_1_bn (BatchNo  (None, 16, 16, 128)          512       ['conv3_block3_1_conv[0][0]'] \n rmalization)                                                                                     \n                                                                                                  \n conv3_block3_1_relu (Activ  (None, 16, 16, 128)          0         ['conv3_block3_1_bn[0][0]']   \n ation)                                                                                           \n                                                                                                  \n conv3_block3_2_conv (Conv2  (None, 16, 16, 128)          147584    ['conv3_block3_1_relu[0][0]'] \n D)                                                                                               \n                                                                                                  \n conv3_block3_2_bn (BatchNo  (None, 16, 16, 128)          512       ['conv3_block3_2_conv[0][0]'] \n rmalization)                                                                                     \n conv3_block3_3_bn (BatchNo  (None, 16, 16, 512)          2048      ['conv3_block3_3_conv[0][0]'] \n rmalization)                                                                                     \n                                                                                                  \n conv3_block3_add (Add)      (None, 16, 16, 512)          0         ['conv3_block2_out[0][0]',    \n                                                                     'conv3_block3_3_bn[0][0]']   \n                                                                                                  \n conv3_block3_out (Activati  (None, 16, 16, 512)          0         ['conv3_block3_add[0][0]']    \n on)                                                                                              \n                                                                                                  \n conv3_block4_1_conv (Conv2  (None, 16, 16, 128)          65664     ['conv3_block3_out[0][0]']    \n D)                                                                                               \n                                                                                                  \n conv3_block4_1_bn (BatchNo  (None, 16, 16, 128)          512       ['conv3_block4_1_conv[0][0]'] \n rmalization)                                                                                     \n                                                                                                  \n conv3_block4_1_relu (Activ  (None, 16, 16, 128)          0         ['conv3_block4_1_bn[0][0]']   \n ation)                                                                                           \n                                                                                                  \n conv3_block4_2_conv (Conv2  (None, 16, 16, 128)          147584    ['conv3_block4_1_relu[0][0]'] \n D)                                                                                               \n                                                                                                  \n conv3_block4_2_bn (BatchNo  (None, 16, 16, 128)          512       ['conv3_block4_2_conv[0][0]'] \n rmalization)                                                                                     \n                                                                                                  \n conv3_block4_2_relu (Activ  (None, 16, 16, 128)          0         ['conv3_block4_2_bn[0][0]']   \n ation)                                                                                           \n                                                                                                  \n conv3_block4_3_conv (Conv2  (None, 16, 16, 512)          66048     ['conv3_block4_2_relu[0][0]'] \n D)                                                                                               \n                                                                                                  \n conv3_block4_3_bn (BatchNo  (None, 16, 16, 512)          2048      ['conv3_block4_3_conv[0][0]'] \n rmalization)                                                                                     \n                                                                                                  \n conv3_block4_add (Add)      (None, 16, 16, 512)          0         ['conv3_block3_out[0][0]',    \n                                                                     'conv3_block4_3_bn[0][0]']   \n                                                                                                  \n conv3_block4_out (Activati  (None, 16, 16, 512)          0         ['conv3_block4_add[0][0]']    \n on)                                                                                              \n                                                                                                  \n conv4_block1_1_conv (Conv2  (None, 8, 8, 256)            131328    ['conv3_block4_out[0][0]']    \n D)                                                                                               \n                                                                                                  \n conv4_block1_1_bn (BatchNo  (None, 8, 8, 256)            1024      ['conv4_block1_1_conv[0][0]'] \n rmalization)                                                                                     \n                                                                                                  \n conv4_block1_1_relu (Activ  (None, 8, 8, 256)            0         ['conv4_block1_1_bn[0][0]']   \n ation)                                                                                           \n                                                                                                  \n conv4_block1_2_conv (Conv2  (None, 8, 8, 256)            590080    ['conv4_block1_1_relu[0][0]'] \n D)                                                                                               \n                                                                                                  \n conv4_block1_2_bn (BatchNo  (None, 8, 8, 256)            1024      ['conv4_block1_2_conv[0][0]'] \n rmalization)                                                                                     \n                                                                                                  \n conv4_block1_2_relu (Activ  (None, 8, 8, 256)            0         ['conv4_block1_2_bn[0][0]']   \n ation)                                                                                           \n                                                                                                  \n conv4_block1_0_conv (Conv2  (None, 8, 8, 1024)           525312    ['conv3_block4_out[0][0]']    \n D)                                                                                               \n                                                                                                  \n conv4_block1_3_conv (Conv2  (None, 8, 8, 1024)           263168    ['conv4_block1_2_relu[0][0]'] \n D)                                                                                               \n                                                                                                  \n conv4_block1_0_bn (BatchNo  (None, 8, 8, 1024)           4096      ['conv4_block1_0_conv[0][0]'] \n rmalization)                                                                                     \n                                                                                                  \n conv4_block1_3_bn (BatchNo  (None, 8, 8, 1024)           4096      ['conv4_block1_3_conv[0][0]'] \n rmalization)                                                                                     \n                                                                                                  \n conv4_block1_add (Add)      (None, 8, 8, 1024)           0         ['conv4_block1_0_bn[0][0]',   \n                                                                     'conv4_block1_3_bn[0][0]']   \n                                                                                                  \n conv4_block1_out (Activati  (None, 8, 8, 1024)           0         ['conv4_block1_add[0][0]']    \n on)                                                                                              \n                                                                                                  \n conv4_block2_1_conv (Conv2  (None, 8, 8, 256)            262400    ['conv4_block1_out[0][0]']    \n D)                                                                                               \n                                                                                                  \n conv4_block2_1_bn (BatchNo  (None, 8, 8, 256)            1024      ['conv4_block2_1_conv[0][0]'] \n rmalization)                                                                                     \n                                                                                                  \n conv4_block2_1_relu (Activ  (None, 8, 8, 256)            0         ['conv4_block2_1_bn[0][0]']   \n ation)                                                                                           \n                                                                                                  \n conv4_block2_2_conv (Conv2  (None, 8, 8, 256)            590080    ['conv4_block2_1_relu[0][0]'] \n D)                                                                                               \n                                                                                                  \n conv4_block2_2_bn (BatchNo  (None, 8, 8, 256)            1024      ['conv4_block2_2_conv[0][0]'] \n rmalization)                                                                                     \n                                                                                                  \n conv4_block2_2_relu (Activ  (None, 8, 8, 256)            0         ['conv4_block2_2_bn[0][0]']   \n ation)                                                                                           \n                                                                                                  \n conv4_block2_3_conv (Conv2  (None, 8, 8, 1024)           263168    ['conv4_block2_2_relu[0][0]'] \n D)                                                                                               \n                                                                                                  \n conv4_block2_3_bn (BatchNo  (None, 8, 8, 1024)           4096      ['conv4_block2_3_conv[0][0]'] \n rmalization)                                                                                     \n                                                                                                  \n conv4_block2_add (Add)      (None, 8, 8, 1024)           0         ['conv4_block1_out[0][0]',    \n                                                                     'conv4_block2_3_bn[0][0]']   \n                                                                                                  \n conv4_block2_out (Activati  (None, 8, 8, 1024)           0         ['conv4_block2_add[0][0]']    \n on)                                                                                              \n                                                                                                  \n conv4_block3_1_conv (Conv2  (None, 8, 8, 256)            262400    ['conv4_block2_out[0][0]']    \n D)                                                                                               \n                                                                                                  \n conv4_block3_1_bn (BatchNo  (None, 8, 8, 256)            1024      ['conv4_block3_1_conv[0][0]'] \n rmalization)                                                                                     \n                                                                                                  \n conv4_block3_1_relu (Activ  (None, 8, 8, 256)            0         ['conv4_block3_1_bn[0][0]']   \n ation)                                                                                           \n                                                                                                  \n conv4_block3_2_conv (Conv2  (None, 8, 8, 256)            590080    ['conv4_block3_1_relu[0][0]'] \n D)                                                                                               \n                                                                                                  \n conv4_block3_2_bn (BatchNo  (None, 8, 8, 256)            1024      ['conv4_block3_2_conv[0][0]'] \n rmalization)                                                                                     \n                                                                                                  \n conv4_block3_2_relu (Activ  (None, 8, 8, 256)            0         ['conv4_block3_2_bn[0][0]']   \n ation)                                                                                           \n                                                                                                  \n conv4_block3_3_conv (Conv2  (None, 8, 8, 1024)           263168    ['conv4_block3_2_relu[0][0]'] \n D)                                                                                               \n                                                                                                  \n conv4_block3_3_bn (BatchNo  (None, 8, 8, 1024)           4096      ['conv4_block3_3_conv[0][0]'] \n rmalization)                                                                                     \n                                                                                                  \n conv4_block3_add (Add)      (None, 8, 8, 1024)           0         ['conv4_block2_out[0][0]',    \n                                                                     'conv4_block3_3_bn[0][0]']   \n                                                                                                  \n conv4_block3_out (Activati  (None, 8, 8, 1024)           0         ['conv4_block3_add[0][0]']    \n on)                                                                                              \n                                                                                                  \n conv4_block4_1_conv (Conv2  (None, 8, 8, 256)            262400    ['conv4_block3_out[0][0]']    \n D)                                                                                               \n                                                                                                  \n conv4_block4_1_bn (BatchNo  (None, 8, 8, 256)            1024      ['conv4_block4_1_conv[0][0]'] \n rmalization)                                                                                     \n                                                                                                  \n conv4_block4_1_relu (Activ  (None, 8, 8, 256)            0         ['conv4_block4_1_bn[0][0]']   \n ation)                                                                                           \n                                                                                                  \n conv4_block4_2_conv (Conv2  (None, 8, 8, 256)            590080    ['conv4_block4_1_relu[0][0]'] \n D)                                                                                               \n                                                                                                  \n conv4_block4_2_bn (BatchNo  (None, 8, 8, 256)            1024      ['conv4_block4_2_conv[0][0]'] \n rmalization)                                                                                     \n                                                                                                  \n conv4_block4_2_relu (Activ  (None, 8, 8, 256)            0         ['conv4_block4_2_bn[0][0]']   \n ation)                                                                                           \n                                                                                                  \n conv4_block4_3_conv (Conv2  (None, 8, 8, 1024)           263168    ['conv4_block4_2_relu[0][0]'] \n D)                                                                                               \n                                                                                                  \n conv4_block4_3_bn (BatchNo  (None, 8, 8, 1024)           4096      ['conv4_block4_3_conv[0][0]'] \n rmalization)                                                                                     \n                                                                                                  \n conv4_block4_add (Add)      (None, 8, 8, 1024)           0         ['conv4_block3_out[0][0]',    \n                                                                     'conv4_block4_3_bn[0][0]']   \n                                                                                                  \n conv4_block4_out (Activati  (None, 8, 8, 1024)           0         ['conv4_block4_add[0][0]']    \n on)                                                                                              \n                                                                                                  \n conv4_block5_1_conv (Conv2  (None, 8, 8, 256)            262400    ['conv4_block4_out[0][0]']    \n D)                                                                                               \n                                                                                                  \n conv4_block5_1_bn (BatchNo  (None, 8, 8, 256)            1024      ['conv4_block5_1_conv[0][0]'] \n rmalization)                                                                                     \n                                                                                                  \n conv4_block5_1_relu (Activ  (None, 8, 8, 256)            0         ['conv4_block5_1_bn[0][0]']   \n ation)                                                                                           \n                                                                                                  \n conv4_block5_2_conv (Conv2  (None, 8, 8, 256)            590080    ['conv4_block5_1_relu[0][0]'] \n D)                                                                                               \n                                                                                                  \n conv4_block5_2_bn (BatchNo  (None, 8, 8, 256)            1024      ['conv4_block5_2_conv[0][0]'] \n rmalization)                                                                                     \n                                                                                                  \n conv4_block5_2_relu (Activ  (None, 8, 8, 256)            0         ['conv4_block5_2_bn[0][0]']   \n ation)                                                                                           \n                                                                                                  \n conv4_block5_3_conv (Conv2  (None, 8, 8, 1024)           263168    ['conv4_block5_2_relu[0][0]'] \n D)                                                                                               \n                                                                                                  \n conv4_block5_3_bn (BatchNo  (None, 8, 8, 1024)           4096      ['conv4_block5_3_conv[0][0]'] \n rmalization)                                                                                     \n                                                                                                  \n conv4_block5_add (Add)      (None, 8, 8, 1024)           0         ['conv4_block4_out[0][0]',    \n                                                                     'conv4_block5_3_bn[0][0]']   \n                                                                                                  \n conv4_block5_out (Activati  (None, 8, 8, 1024)           0         ['conv4_block5_add[0][0]']    \n on)                                                                                              \n                                                                                                  \n conv4_block6_1_conv (Conv2  (None, 8, 8, 256)            262400    ['conv4_block5_out[0][0]']    \n D)                                                                                               \n                                                                                                  \n conv4_block6_1_bn (BatchNo  (None, 8, 8, 256)            1024      ['conv4_block6_1_conv[0][0]'] \n rmalization)                                                                                     \n                                                                                                  \n conv4_block6_1_relu (Activ  (None, 8, 8, 256)            0         ['conv4_block6_1_bn[0][0]']   \n ation)                                                                                           \n                                                                                                  \n conv4_block6_2_conv (Conv2  (None, 8, 8, 256)            590080    ['conv4_block6_1_relu[0][0]'] \n D)                                                                                               \n                                                                                                  \n conv4_block6_2_bn (BatchNo  (None, 8, 8, 256)            1024      ['conv4_block6_2_conv[0][0]'] \n rmalization)                                                                                     \n                                                                                                  \n conv4_block6_2_relu (Activ  (None, 8, 8, 256)            0         ['conv4_block6_2_bn[0][0]']   \n ation)                                                                                           \n                                                                                                  \n conv4_block6_3_conv (Conv2  (None, 8, 8, 1024)           263168    ['conv4_block6_2_relu[0][0]'] \n D)                                                                                               \n                                                                                                  \n conv4_block6_3_bn (BatchNo  (None, 8, 8, 1024)           4096      ['conv4_block6_3_conv[0][0]'] \n rmalization)                                                                                     \n                                                                                                  \n conv4_block6_add (Add)      (None, 8, 8, 1024)           0         ['conv4_block5_out[0][0]',    \n                                                                     'conv4_block6_3_bn[0][0]']   \n                                                                                                  \n conv4_block6_out (Activati  (None, 8, 8, 1024)           0         ['conv4_block6_add[0][0]']    \n on)                                                                                              \n                                                                                                  \n conv5_block1_1_conv (Conv2  (None, 4, 4, 512)            524800    ['conv4_block6_out[0][0]']    \n D)                                                                                               \n                                                                                                  \n conv5_block1_1_bn (BatchNo  (None, 4, 4, 512)            2048      ['conv5_block1_1_conv[0][0]'] \n rmalization)                                                                                     \n                                                                                                  \n conv5_block1_1_relu (Activ  (None, 4, 4, 512)            0         ['conv5_block1_1_bn[0][0]']   \n ation)                                                                                           \n                                                                                                  \n conv5_block1_2_conv (Conv2  (None, 4, 4, 512)            2359808   ['conv5_block1_1_relu[0][0]'] \n D)                                                                                               \n                                                                                                  \n conv5_block1_2_bn (BatchNo  (None, 4, 4, 512)            2048      ['conv5_block1_2_conv[0][0]'] \n rmalization)                                                                                     \n                                                                                                  \n conv5_block1_2_relu (Activ  (None, 4, 4, 512)            0         ['conv5_block1_2_bn[0][0]']   \n ation)                                                                                           \n                                                                                                  \n conv5_block1_0_conv (Conv2  (None, 4, 4, 2048)           2099200   ['conv4_block6_out[0][0]']    \n D)                                                                                               \n                                                                                                  \n conv5_block1_3_conv (Conv2  (None, 4, 4, 2048)           1050624   ['conv5_block1_2_relu[0][0]'] \n D)                                                                                               \n                                                                                                  \n conv5_block1_0_bn (BatchNo  (None, 4, 4, 2048)           8192      ['conv5_block1_0_conv[0][0]'] \n rmalization)                                                                                     \n                                                                                                  \n conv5_block1_3_bn (BatchNo  (None, 4, 4, 2048)           8192      ['conv5_block1_3_conv[0][0]'] \n rmalization)                                                                                     \n                                                                                                  \n conv5_block1_add (Add)      (None, 4, 4, 2048)           0         ['conv5_block1_0_bn[0][0]',   \n                                                                     'conv5_block1_3_bn[0][0]']   \n                                                                                                  \n conv5_block1_out (Activati  (None, 4, 4, 2048)           0         ['conv5_block1_add[0][0]']    \n on)                                                                                              \n                                                                                                  \n conv5_block2_1_conv (Conv2  (None, 4, 4, 512)            1049088   ['conv5_block1_out[0][0]']    \n D)                                                                                               \n                                                                                                  \n conv5_block2_1_bn (BatchNo  (None, 4, 4, 512)            2048      ['conv5_block2_1_conv[0][0]'] \n rmalization)                                                                                     \n                                                                                                  \n conv5_block2_1_relu (Activ  (None, 4, 4, 512)            0         ['conv5_block2_1_bn[0][0]']   \n ation)                                                                                           \n                                                                                                  \n conv5_block2_2_conv (Conv2  (None, 4, 4, 512)            2359808   ['conv5_block2_1_relu[0][0]'] \n D)                                                                                               \n                                                                                                  \n conv5_block2_2_bn (BatchNo  (None, 4, 4, 512)            2048      ['conv5_block2_2_conv[0][0]'] \n rmalization)                                                                                     \n                                                                                                  \n conv5_block2_2_relu (Activ  (None, 4, 4, 512)            0         ['conv5_block2_2_bn[0][0]']   \n ation)                                                                                           \n                                                                                                  \n conv5_block2_3_conv (Conv2  (None, 4, 4, 2048)           1050624   ['conv5_block2_2_relu[0][0]'] \n D)                                                                                               \n                                                                                                  \n conv5_block2_3_bn (BatchNo  (None, 4, 4, 2048)           8192      ['conv5_block2_3_conv[0][0]'] \n rmalization)                                                                                     \n                                                                                                  \n conv5_block2_add (Add)      (None, 4, 4, 2048)           0         ['conv5_block1_out[0][0]',    \n                                                                     'conv5_block2_3_bn[0][0]']   \n                                                                                                  \n conv5_block2_out (Activati  (None, 4, 4, 2048)           0         ['conv5_block2_add[0][0]']    \n on)                                                                                              \n                                                                                                  \n conv5_block3_1_conv (Conv2  (None, 4, 4, 512)            1049088   ['conv5_block2_out[0][0]']    \n D)                                                                                               \n                                                                                                  \n conv5_block3_1_bn (BatchNo  (None, 4, 4, 512)            2048      ['conv5_block3_1_conv[0][0]'] \n rmalization)                                                                                     \n                                                                                                  \n conv5_block3_1_relu (Activ  (None, 4, 4, 512)            0         ['conv5_block3_1_bn[0][0]']   \n ation)                                                                                           \n                                                                                                  \n conv5_block3_2_conv (Conv2  (None, 4, 4, 512)            2359808   ['conv5_block3_1_relu[0][0]'] \n D)                                                                                               \n                                                                                                  \n conv5_block3_2_bn (BatchNo  (None, 4, 4, 512)            2048      ['conv5_block3_2_conv[0][0]'] \n rmalization)                                                                                     \n                                                                                                  \n conv5_block3_2_relu (Activ  (None, 4, 4, 512)            0         ['conv5_block3_2_bn[0][0]']   \n ation)                                                                                           \n                                                                                                  \n conv5_block3_3_conv (Conv2  (None, 4, 4, 2048)           1050624   ['conv5_block3_2_relu[0][0]'] \n D)                                                                                               \n                                                                                                  \n conv5_block3_3_bn (BatchNo  (None, 4, 4, 2048)           8192      ['conv5_block3_3_conv[0][0]'] \n rmalization)                                                                                     \n                                                                                                  \n conv5_block3_add (Add)      (None, 4, 4, 2048)           0         ['conv5_block2_out[0][0]',    \n                                                                     'conv5_block3_3_bn[0][0]']   \n                                                                                                  \n conv5_block3_out (Activati  (None, 4, 4, 2048)           0         ['conv5_block3_add[0][0]']    \n on)                                                                                              \n                                                                                                  \n avg_pool (GlobalAveragePoo  (None, 2048)                 0         ['conv5_block3_out[0][0]']    \n ling2D)                                                                                          \n                                                                                                  \n predictions (Dense)         (None, 7)                    14343     ['avg_pool[0][0]']            \n                                                                                                  \n==================================================================================================\nTotal params: 23602055 (90.03 MB)\nTrainable params: 23548935 (89.83 MB)\nNon-trainable params: 53120 (207.50 KB)\n__________________________________________________________________________________________________\n",
          "output_type": "stream"
        }
      ]
    },
    {
      "cell_type": "code",
      "source": [
        "history_resnet = resnet_model.fit(X_train, y_train_one_hot, epochs=100, batch_size=32, validation_data=(X_val, y_val_one_hot))"
      ],
      "metadata": {
        "execution": {
          "iopub.status.busy": "2024-03-09T15:51:25.220128Z",
          "iopub.execute_input": "2024-03-09T15:51:25.220412Z",
          "iopub.status.idle": "2024-03-09T17:12:48.886137Z",
          "shell.execute_reply.started": "2024-03-09T15:51:25.220387Z",
          "shell.execute_reply": "2024-03-09T17:12:48.885270Z"
        },
        "trusted": true,
        "id": "al2Q5wVMY8mn",
        "outputId": "42df808d-5315-47d2-cf60-d6f200745be6"
      },
      "execution_count": null,
      "outputs": [
        {
          "name": "stdout",
          "text": "Epoch 1/100\n653/653 [==============================] - 75s 82ms/step - loss: 1.6487 - accuracy: 0.3878 - val_loss: 2.1753 - val_accuracy: 0.2391\nEpoch 2/100\n653/653 [==============================] - 49s 75ms/step - loss: 1.4477 - accuracy: 0.4641 - val_loss: 1.6408 - val_accuracy: 0.4678\nEpoch 3/100\n653/653 [==============================] - 49s 74ms/step - loss: 1.3326 - accuracy: 0.5075 - val_loss: 1.5202 - val_accuracy: 0.4782\nEpoch 4/100\n653/653 [==============================] - 48s 74ms/step - loss: 1.2197 - accuracy: 0.5496 - val_loss: 1.3189 - val_accuracy: 0.5628\nEpoch 5/100\n653/653 [==============================] - 48s 74ms/step - loss: 1.1173 - accuracy: 0.5883 - val_loss: 1.1874 - val_accuracy: 0.5877\nEpoch 6/100\n653/653 [==============================] - 48s 74ms/step - loss: 0.9888 - accuracy: 0.6354 - val_loss: 1.2999 - val_accuracy: 0.5682\nEpoch 7/100\n653/653 [==============================] - 48s 74ms/step - loss: 0.8690 - accuracy: 0.6818 - val_loss: 1.1694 - val_accuracy: 0.6054\nEpoch 8/100\n653/653 [==============================] - 49s 74ms/step - loss: 0.7732 - accuracy: 0.7161 - val_loss: 1.1198 - val_accuracy: 0.6211\nEpoch 9/100\n653/653 [==============================] - 48s 74ms/step - loss: 0.6835 - accuracy: 0.7495 - val_loss: 1.1988 - val_accuracy: 0.6230\nEpoch 10/100\n653/653 [==============================] - 48s 74ms/step - loss: 0.5809 - accuracy: 0.7896 - val_loss: 1.1561 - val_accuracy: 0.6253\nEpoch 11/100\n653/653 [==============================] - 48s 74ms/step - loss: 0.5131 - accuracy: 0.8171 - val_loss: 1.1500 - val_accuracy: 0.6475\nEpoch 12/100\n653/653 [==============================] - 48s 74ms/step - loss: 0.4353 - accuracy: 0.8438 - val_loss: 1.0791 - val_accuracy: 0.6452\nEpoch 13/100\n653/653 [==============================] - 48s 74ms/step - loss: 0.3822 - accuracy: 0.8635 - val_loss: 1.2934 - val_accuracy: 0.6640\nEpoch 14/100\n653/653 [==============================] - 49s 74ms/step - loss: 0.3287 - accuracy: 0.8795 - val_loss: 0.8799 - val_accuracy: 0.7226\nEpoch 15/100\n653/653 [==============================] - 49s 74ms/step - loss: 0.2720 - accuracy: 0.9019 - val_loss: 1.3644 - val_accuracy: 0.6732\nEpoch 16/100\n653/653 [==============================] - 48s 74ms/step - loss: 0.2408 - accuracy: 0.9135 - val_loss: 0.9957 - val_accuracy: 0.7130\nEpoch 17/100\n653/653 [==============================] - 48s 74ms/step - loss: 0.2100 - accuracy: 0.9264 - val_loss: 2.0802 - val_accuracy: 0.5789\nEpoch 18/100\n653/653 [==============================] - 48s 74ms/step - loss: 0.1755 - accuracy: 0.9400 - val_loss: 1.1924 - val_accuracy: 0.6958\nEpoch 19/100\n653/653 [==============================] - 48s 74ms/step - loss: 0.1644 - accuracy: 0.9430 - val_loss: 1.1022 - val_accuracy: 0.7234\nEpoch 20/100\n653/653 [==============================] - 48s 74ms/step - loss: 0.1397 - accuracy: 0.9500 - val_loss: 1.1125 - val_accuracy: 0.7199\nEpoch 21/100\n653/653 [==============================] - 48s 74ms/step - loss: 0.1316 - accuracy: 0.9536 - val_loss: 1.1007 - val_accuracy: 0.7291\nEpoch 22/100\n653/653 [==============================] - 48s 74ms/step - loss: 0.1157 - accuracy: 0.9600 - val_loss: 1.1976 - val_accuracy: 0.7433\nEpoch 23/100\n653/653 [==============================] - 48s 74ms/step - loss: 0.1133 - accuracy: 0.9607 - val_loss: 1.1631 - val_accuracy: 0.7084\nEpoch 24/100\n653/653 [==============================] - 48s 74ms/step - loss: 0.1036 - accuracy: 0.9648 - val_loss: 1.3249 - val_accuracy: 0.6958\nEpoch 25/100\n653/653 [==============================] - 48s 74ms/step - loss: 0.0922 - accuracy: 0.9682 - val_loss: 1.0528 - val_accuracy: 0.7552\nEpoch 26/100\n653/653 [==============================] - 48s 74ms/step - loss: 0.0842 - accuracy: 0.9710 - val_loss: 1.0527 - val_accuracy: 0.7444\nEpoch 27/100\n653/653 [==============================] - 48s 74ms/step - loss: 0.0811 - accuracy: 0.9730 - val_loss: 1.0837 - val_accuracy: 0.7582\nEpoch 28/100\n653/653 [==============================] - 48s 74ms/step - loss: 0.0726 - accuracy: 0.9744 - val_loss: 1.5567 - val_accuracy: 0.7019\nEpoch 29/100\n653/653 [==============================] - 48s 74ms/step - loss: 0.0634 - accuracy: 0.9781 - val_loss: 1.0309 - val_accuracy: 0.7594\nEpoch 30/100\n653/653 [==============================] - 48s 74ms/step - loss: 0.0628 - accuracy: 0.9783 - val_loss: 1.4422 - val_accuracy: 0.7203\nEpoch 31/100\n653/653 [==============================] - 48s 74ms/step - loss: 0.0616 - accuracy: 0.9795 - val_loss: 1.2484 - val_accuracy: 0.7318\nEpoch 32/100\n653/653 [==============================] - 48s 74ms/step - loss: 0.0649 - accuracy: 0.9786 - val_loss: 1.2882 - val_accuracy: 0.7368\nEpoch 33/100\n653/653 [==============================] - 49s 74ms/step - loss: 0.0604 - accuracy: 0.9787 - val_loss: 1.3954 - val_accuracy: 0.7444\nEpoch 34/100\n653/653 [==============================] - 48s 74ms/step - loss: 0.0544 - accuracy: 0.9812 - val_loss: 1.3577 - val_accuracy: 0.7517\nEpoch 35/100\n653/653 [==============================] - 48s 74ms/step - loss: 0.0505 - accuracy: 0.9826 - val_loss: 1.1331 - val_accuracy: 0.7625\nEpoch 36/100\n653/653 [==============================] - 48s 74ms/step - loss: 0.0449 - accuracy: 0.9839 - val_loss: 1.3028 - val_accuracy: 0.7471\nEpoch 37/100\n653/653 [==============================] - 48s 74ms/step - loss: 0.0478 - accuracy: 0.9830 - val_loss: 1.3639 - val_accuracy: 0.7475\nEpoch 38/100\n653/653 [==============================] - 48s 74ms/step - loss: 0.0454 - accuracy: 0.9852 - val_loss: 1.2191 - val_accuracy: 0.7690\nEpoch 39/100\n653/653 [==============================] - 48s 74ms/step - loss: 0.0401 - accuracy: 0.9864 - val_loss: 1.4147 - val_accuracy: 0.7571\nEpoch 40/100\n653/653 [==============================] - 48s 74ms/step - loss: 0.0402 - accuracy: 0.9857 - val_loss: 1.0456 - val_accuracy: 0.7897\nEpoch 41/100\n653/653 [==============================] - 48s 74ms/step - loss: 0.0408 - accuracy: 0.9854 - val_loss: 0.9447 - val_accuracy: 0.7923\nEpoch 42/100\n653/653 [==============================] - 48s 74ms/step - loss: 0.0356 - accuracy: 0.9886 - val_loss: 1.3678 - val_accuracy: 0.7667\nEpoch 43/100\n653/653 [==============================] - 48s 74ms/step - loss: 0.0386 - accuracy: 0.9874 - val_loss: 1.1926 - val_accuracy: 0.7617\nEpoch 44/100\n653/653 [==============================] - 48s 74ms/step - loss: 0.0336 - accuracy: 0.9887 - val_loss: 1.0723 - val_accuracy: 0.8004\nEpoch 45/100\n653/653 [==============================] - 48s 74ms/step - loss: 0.0275 - accuracy: 0.9902 - val_loss: 1.1241 - val_accuracy: 0.7828\nEpoch 46/100\n653/653 [==============================] - 48s 74ms/step - loss: 0.0300 - accuracy: 0.9895 - val_loss: 1.4348 - val_accuracy: 0.7563\nEpoch 47/100\n653/653 [==============================] - 48s 74ms/step - loss: 0.0334 - accuracy: 0.9885 - val_loss: 1.1506 - val_accuracy: 0.7858\nEpoch 48/100\n653/653 [==============================] - 48s 74ms/step - loss: 0.0276 - accuracy: 0.9906 - val_loss: 1.8024 - val_accuracy: 0.7567\nEpoch 49/100\n653/653 [==============================] - 48s 74ms/step - loss: 0.0307 - accuracy: 0.9897 - val_loss: 1.4440 - val_accuracy: 0.7498\nEpoch 50/100\n653/653 [==============================] - 48s 74ms/step - loss: 0.0287 - accuracy: 0.9898 - val_loss: 0.9005 - val_accuracy: 0.8245\nEpoch 51/100\n653/653 [==============================] - 48s 74ms/step - loss: 0.0262 - accuracy: 0.9920 - val_loss: 1.4627 - val_accuracy: 0.7360\nEpoch 52/100\n653/653 [==============================] - 48s 74ms/step - loss: 0.0267 - accuracy: 0.9914 - val_loss: 1.2482 - val_accuracy: 0.7728\nEpoch 53/100\n653/653 [==============================] - 48s 74ms/step - loss: 0.0259 - accuracy: 0.9911 - val_loss: 1.4172 - val_accuracy: 0.7625\nEpoch 54/100\n653/653 [==============================] - 48s 74ms/step - loss: 0.0252 - accuracy: 0.9912 - val_loss: 1.2252 - val_accuracy: 0.7782\nEpoch 55/100\n653/653 [==============================] - 48s 74ms/step - loss: 0.0234 - accuracy: 0.9918 - val_loss: 1.8601 - val_accuracy: 0.7387\nEpoch 56/100\n653/653 [==============================] - 48s 74ms/step - loss: 0.0221 - accuracy: 0.9922 - val_loss: 1.0009 - val_accuracy: 0.8057\nEpoch 57/100\n653/653 [==============================] - 48s 74ms/step - loss: 0.0234 - accuracy: 0.9922 - val_loss: 1.2439 - val_accuracy: 0.7701\nEpoch 58/100\n653/653 [==============================] - 48s 74ms/step - loss: 0.0252 - accuracy: 0.9913 - val_loss: 1.1514 - val_accuracy: 0.7992\nEpoch 59/100\n653/653 [==============================] - 48s 74ms/step - loss: 0.0212 - accuracy: 0.9933 - val_loss: 1.2262 - val_accuracy: 0.7697\nEpoch 60/100\n653/653 [==============================] - 48s 74ms/step - loss: 0.0192 - accuracy: 0.9932 - val_loss: 1.4745 - val_accuracy: 0.7751\nEpoch 61/100\n653/653 [==============================] - 48s 74ms/step - loss: 0.0237 - accuracy: 0.9915 - val_loss: 1.2909 - val_accuracy: 0.7782\nEpoch 62/100\n653/653 [==============================] - 49s 74ms/step - loss: 0.0194 - accuracy: 0.9932 - val_loss: 0.7809 - val_accuracy: 0.8272\nEpoch 63/100\n653/653 [==============================] - 49s 75ms/step - loss: 0.0183 - accuracy: 0.9939 - val_loss: 1.0281 - val_accuracy: 0.8195\nEpoch 64/100\n653/653 [==============================] - 49s 75ms/step - loss: 0.0202 - accuracy: 0.9927 - val_loss: 0.8381 - val_accuracy: 0.8295\nEpoch 65/100\n653/653 [==============================] - 48s 74ms/step - loss: 0.0205 - accuracy: 0.9934 - val_loss: 1.1122 - val_accuracy: 0.7962\nEpoch 66/100\n653/653 [==============================] - 49s 74ms/step - loss: 0.0212 - accuracy: 0.9929 - val_loss: 2.3787 - val_accuracy: 0.6889\nEpoch 67/100\n653/653 [==============================] - 48s 74ms/step - loss: 0.0192 - accuracy: 0.9931 - val_loss: 0.9605 - val_accuracy: 0.8230\nEpoch 68/100\n653/653 [==============================] - 48s 74ms/step - loss: 0.0159 - accuracy: 0.9949 - val_loss: 1.3358 - val_accuracy: 0.7801\nEpoch 69/100\n653/653 [==============================] - 48s 74ms/step - loss: 0.0134 - accuracy: 0.9958 - val_loss: 1.2000 - val_accuracy: 0.7897\nEpoch 70/100\n653/653 [==============================] - 49s 74ms/step - loss: 0.0173 - accuracy: 0.9943 - val_loss: 1.1879 - val_accuracy: 0.7935\nEpoch 71/100\n653/653 [==============================] - 48s 74ms/step - loss: 0.0148 - accuracy: 0.9950 - val_loss: 1.2715 - val_accuracy: 0.7854\nEpoch 72/100\n653/653 [==============================] - 48s 74ms/step - loss: 0.0149 - accuracy: 0.9951 - val_loss: 1.0043 - val_accuracy: 0.8284\nEpoch 73/100\n653/653 [==============================] - 48s 74ms/step - loss: 0.0153 - accuracy: 0.9946 - val_loss: 1.4132 - val_accuracy: 0.7847\nEpoch 74/100\n653/653 [==============================] - 48s 74ms/step - loss: 0.0198 - accuracy: 0.9937 - val_loss: 1.0272 - val_accuracy: 0.8241\nEpoch 75/100\n653/653 [==============================] - 49s 75ms/step - loss: 0.0148 - accuracy: 0.9952 - val_loss: 1.1415 - val_accuracy: 0.8126\nEpoch 76/100\n653/653 [==============================] - 49s 75ms/step - loss: 0.0128 - accuracy: 0.9961 - val_loss: 1.0084 - val_accuracy: 0.8042\nEpoch 77/100\n653/653 [==============================] - 49s 75ms/step - loss: 0.0150 - accuracy: 0.9954 - val_loss: 1.2304 - val_accuracy: 0.7831\nEpoch 78/100\n653/653 [==============================] - 48s 74ms/step - loss: 0.0127 - accuracy: 0.9961 - val_loss: 1.3088 - val_accuracy: 0.7893\nEpoch 79/100\n653/653 [==============================] - 48s 74ms/step - loss: 0.0123 - accuracy: 0.9963 - val_loss: 2.9848 - val_accuracy: 0.6605\nEpoch 80/100\n653/653 [==============================] - 48s 74ms/step - loss: 0.0133 - accuracy: 0.9953 - val_loss: 1.4315 - val_accuracy: 0.7916\nEpoch 81/100\n653/653 [==============================] - 48s 74ms/step - loss: 0.0114 - accuracy: 0.9963 - val_loss: 0.9950 - val_accuracy: 0.8184\nEpoch 82/100\n653/653 [==============================] - 48s 74ms/step - loss: 0.0141 - accuracy: 0.9957 - val_loss: 1.2531 - val_accuracy: 0.8015\nEpoch 83/100\n653/653 [==============================] - 48s 74ms/step - loss: 0.0102 - accuracy: 0.9963 - val_loss: 1.4852 - val_accuracy: 0.7789\nEpoch 84/100\n653/653 [==============================] - 48s 74ms/step - loss: 0.0108 - accuracy: 0.9970 - val_loss: 2.0662 - val_accuracy: 0.7330\nEpoch 85/100\n653/653 [==============================] - 48s 74ms/step - loss: 0.0110 - accuracy: 0.9962 - val_loss: 1.3405 - val_accuracy: 0.7962\nEpoch 86/100\n653/653 [==============================] - 48s 74ms/step - loss: 0.0083 - accuracy: 0.9975 - val_loss: 1.1076 - val_accuracy: 0.8226\nEpoch 87/100\n653/653 [==============================] - 48s 74ms/step - loss: 0.0104 - accuracy: 0.9966 - val_loss: 0.8402 - val_accuracy: 0.8506\nEpoch 88/100\n653/653 [==============================] - 49s 74ms/step - loss: 0.0089 - accuracy: 0.9972 - val_loss: 1.0293 - val_accuracy: 0.8291\nEpoch 89/100\n653/653 [==============================] - 48s 74ms/step - loss: 0.0120 - accuracy: 0.9962 - val_loss: 1.3805 - val_accuracy: 0.7851\nEpoch 90/100\n653/653 [==============================] - 49s 76ms/step - loss: 0.0106 - accuracy: 0.9962 - val_loss: 1.3602 - val_accuracy: 0.8088\nEpoch 91/100\n653/653 [==============================] - 49s 75ms/step - loss: 0.0100 - accuracy: 0.9966 - val_loss: 1.2428 - val_accuracy: 0.7935\nEpoch 92/100\n653/653 [==============================] - 49s 74ms/step - loss: 0.0094 - accuracy: 0.9969 - val_loss: 1.0752 - val_accuracy: 0.8138\nEpoch 93/100\n653/653 [==============================] - 49s 75ms/step - loss: 0.0103 - accuracy: 0.9968 - val_loss: 1.3222 - val_accuracy: 0.7904\nEpoch 94/100\n653/653 [==============================] - 48s 74ms/step - loss: 0.0089 - accuracy: 0.9970 - val_loss: 1.5198 - val_accuracy: 0.7893\nEpoch 95/100\n653/653 [==============================] - 48s 74ms/step - loss: 0.0120 - accuracy: 0.9959 - val_loss: 1.1260 - val_accuracy: 0.8287\nEpoch 96/100\n653/653 [==============================] - 48s 74ms/step - loss: 0.0096 - accuracy: 0.9967 - val_loss: 0.9140 - val_accuracy: 0.8395\nEpoch 97/100\n653/653 [==============================] - 48s 74ms/step - loss: 0.0100 - accuracy: 0.9968 - val_loss: 1.3047 - val_accuracy: 0.7992\nEpoch 98/100\n653/653 [==============================] - 48s 74ms/step - loss: 0.0084 - accuracy: 0.9976 - val_loss: 1.6202 - val_accuracy: 0.7693\nEpoch 99/100\n653/653 [==============================] - 49s 74ms/step - loss: 0.0083 - accuracy: 0.9973 - val_loss: 1.9238 - val_accuracy: 0.7475\nEpoch 100/100\n653/653 [==============================] - 49s 75ms/step - loss: 0.0104 - accuracy: 0.9967 - val_loss: 1.1538 - val_accuracy: 0.8157\n",
          "output_type": "stream"
        }
      ]
    },
    {
      "cell_type": "code",
      "source": [
        "vgg_model = VGG16(include_top=True,\n",
        "                  weights=None,\n",
        "                  input_shape=shape,\n",
        "                  pooling='avg',\n",
        "                  classes=len(types),\n",
        "                  classifier_activation='softmax')\n",
        "vgg_model.compile(keras.optimizers.RMSprop(learning_rate=0.00001), loss='categorical_crossentropy', metrics=['accuracy'])\n",
        "vgg_model.summary()"
      ],
      "metadata": {
        "execution": {
          "iopub.status.busy": "2024-03-09T17:25:11.904182Z",
          "iopub.execute_input": "2024-03-09T17:25:11.904925Z",
          "iopub.status.idle": "2024-03-09T17:25:11.931547Z",
          "shell.execute_reply.started": "2024-03-09T17:25:11.904890Z",
          "shell.execute_reply": "2024-03-09T17:25:11.930373Z"
        },
        "trusted": true,
        "id": "iF9C4WytY8mn",
        "outputId": "da68b6a1-4040-480c-c896-56e91f42887b"
      },
      "execution_count": null,
      "outputs": [
        {
          "traceback": [
            "\u001b[0;31m---------------------------------------------------------------------------\u001b[0m",
            "\u001b[0;31mNameError\u001b[0m                                 Traceback (most recent call last)",
            "Cell \u001b[0;32mIn[2], line 1\u001b[0m\n\u001b[0;32m----> 1\u001b[0m vgg_model \u001b[38;5;241m=\u001b[39m \u001b[43mVGG16\u001b[49m(include_top\u001b[38;5;241m=\u001b[39m\u001b[38;5;28;01mTrue\u001b[39;00m,        \n\u001b[1;32m      2\u001b[0m                   weights\u001b[38;5;241m=\u001b[39m\u001b[38;5;28;01mNone\u001b[39;00m, \n\u001b[1;32m      3\u001b[0m                   input_shape\u001b[38;5;241m=\u001b[39mshape,\n\u001b[1;32m      4\u001b[0m                   pooling\u001b[38;5;241m=\u001b[39m\u001b[38;5;124m'\u001b[39m\u001b[38;5;124mavg\u001b[39m\u001b[38;5;124m'\u001b[39m, \n\u001b[1;32m      5\u001b[0m                   classes\u001b[38;5;241m=\u001b[39m\u001b[38;5;28mlen\u001b[39m(types), \n\u001b[1;32m      6\u001b[0m                   classifier_activation\u001b[38;5;241m=\u001b[39m\u001b[38;5;124m'\u001b[39m\u001b[38;5;124msoftmax\u001b[39m\u001b[38;5;124m'\u001b[39m)\n\u001b[1;32m      7\u001b[0m vgg_model\u001b[38;5;241m.\u001b[39mcompile(keras\u001b[38;5;241m.\u001b[39moptimizers\u001b[38;5;241m.\u001b[39mRMSprop(learning_rate\u001b[38;5;241m=\u001b[39m\u001b[38;5;241m0.00001\u001b[39m), loss\u001b[38;5;241m=\u001b[39m\u001b[38;5;124m'\u001b[39m\u001b[38;5;124mcategorical_crossentropy\u001b[39m\u001b[38;5;124m'\u001b[39m, metrics\u001b[38;5;241m=\u001b[39m[\u001b[38;5;124m'\u001b[39m\u001b[38;5;124maccuracy\u001b[39m\u001b[38;5;124m'\u001b[39m])\n\u001b[1;32m      8\u001b[0m vgg_model\u001b[38;5;241m.\u001b[39msummary()\n",
            "\u001b[0;31mNameError\u001b[0m: name 'VGG16' is not defined"
          ],
          "ename": "NameError",
          "evalue": "name 'VGG16' is not defined",
          "output_type": "error"
        }
      ]
    },
    {
      "cell_type": "code",
      "source": [
        "history_vgg = vgg_model.fit(X_train, y_train_one_hot, epochs=100, batch_size=32, validation_data=(X_val, y_val_one_hot))"
      ],
      "metadata": {
        "execution": {
          "iopub.status.busy": "2024-03-09T17:25:07.327895Z",
          "iopub.execute_input": "2024-03-09T17:25:07.328320Z",
          "iopub.status.idle": "2024-03-09T17:25:07.671708Z",
          "shell.execute_reply.started": "2024-03-09T17:25:07.328288Z",
          "shell.execute_reply": "2024-03-09T17:25:07.670397Z"
        },
        "trusted": true,
        "id": "A2rtvC5MY8mo",
        "outputId": "058212d8-1fec-4d4a-c22a-5735054378b9"
      },
      "execution_count": null,
      "outputs": [
        {
          "traceback": [
            "\u001b[0;31m---------------------------------------------------------------------------\u001b[0m",
            "\u001b[0;31mNameError\u001b[0m                                 Traceback (most recent call last)",
            "Cell \u001b[0;32mIn[1], line 1\u001b[0m\n\u001b[0;32m----> 1\u001b[0m history_vgg \u001b[38;5;241m=\u001b[39m \u001b[43mvgg_model\u001b[49m\u001b[38;5;241m.\u001b[39mfit(X_train, y_train_one_hot, epochs\u001b[38;5;241m=\u001b[39m\u001b[38;5;241m100\u001b[39m, batch_size\u001b[38;5;241m=\u001b[39m\u001b[38;5;241m32\u001b[39m, validation_data\u001b[38;5;241m=\u001b[39m(X_val, y_val_one_hot))\n",
            "\u001b[0;31mNameError\u001b[0m: name 'vgg_model' is not defined"
          ],
          "ename": "NameError",
          "evalue": "name 'vgg_model' is not defined",
          "output_type": "error"
        }
      ]
    },
    {
      "cell_type": "code",
      "source": [
        "plt.figure(figsize=(14, 6))\n",
        "\n",
        "plt.subplot(1, 2, 1)\n",
        "plt.plot(history_fractalnet.history['val_loss'][:100], label='fractalnet')\n",
        "plt.plot(history_resnet.history['val_loss'], label='resnet')\n",
        "plt.plot(history_vgg.history['val_loss'], label='vgg16')\n",
        "plt.xlabel('Epoch')\n",
        "plt.ylabel('Validation Loss')\n",
        "plt.title('Results comparison (loss)')\n",
        "plt.legend()\n",
        "\n",
        "plt.subplot(1, 2, 2)\n",
        "plt.plot(history_fractalnet.history['val_accuracy'][:100], label='fractalnet')\n",
        "plt.plot(history_resnet.history['val_accuracy'], label='resnet')\n",
        "plt.plot(history_vgg.history['val_accuracy'], label='vgg16')\n",
        "plt.xlabel('Epoch')\n",
        "plt.ylabel('Validation accuracy')\n",
        "plt.title('Results comparison (acc)')\n",
        "plt.legend()\n",
        "plt.show()"
      ],
      "metadata": {
        "trusted": true,
        "id": "gjiyJeGrY8mo"
      },
      "execution_count": null,
      "outputs": []
    }
  ]
}